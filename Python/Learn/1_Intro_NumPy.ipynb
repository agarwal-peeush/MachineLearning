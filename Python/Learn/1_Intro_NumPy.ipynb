{
  "nbformat": 4,
  "nbformat_minor": 0,
  "metadata": {
    "colab": {
      "name": "1. Intro_NumPy.ipynb",
      "version": "0.3.2",
      "provenance": [],
      "collapsed_sections": [],
      "include_colab_link": true
    },
    "kernelspec": {
      "name": "python3",
      "display_name": "Python 3"
    }
  },
  "cells": [
    {
      "cell_type": "markdown",
      "metadata": {
        "id": "view-in-github",
        "colab_type": "text"
      },
      "source": [
        "<a href=\"https://colab.research.google.com/github/agarwal-peeush/MachineLearning/blob/master/Python/Learn/1_Intro_NumPy.ipynb\" target=\"_parent\"><img src=\"https://colab.research.google.com/assets/colab-badge.svg\" alt=\"Open In Colab\"/></a>"
      ]
    },
    {
      "metadata": {
        "id": "XjVhPCxK42if",
        "colab_type": "code",
        "colab": {}
      },
      "cell_type": "code",
      "source": [
        "# Import the numpy library\n",
        "# np is alias, and it is standard, but you can use other alias too\n",
        "import numpy as np"
      ],
      "execution_count": 0,
      "outputs": []
    },
    {
      "metadata": {
        "id": "5jgROkcm5lrX",
        "colab_type": "code",
        "outputId": "e62a2e26-5ddb-4d4f-b414-f0dc4e2a2316",
        "colab": {
          "base_uri": "https://localhost:8080/",
          "height": 51
        }
      },
      "cell_type": "code",
      "source": [
        "array_1d = np.array([2,4,5,6,7,9])\n",
        "print (array_1d)\n",
        "print (type(array_1d))"
      ],
      "execution_count": 0,
      "outputs": [
        {
          "output_type": "stream",
          "text": [
            "[2 4 5 6 7 9]\n",
            "<class 'numpy.ndarray'>\n"
          ],
          "name": "stdout"
        }
      ]
    },
    {
      "metadata": {
        "id": "OXA9E2do6AnX",
        "colab_type": "code",
        "outputId": "6f720bb6-96b1-4140-f00e-873b6497287c",
        "colab": {
          "base_uri": "https://localhost:8080/",
          "height": 68
        }
      },
      "cell_type": "code",
      "source": [
        "array_2d = np.array([[2,3,4],[5,8,7]])\n",
        "print(array_2d)\n",
        "print(type(array_2d))"
      ],
      "execution_count": 0,
      "outputs": [
        {
          "output_type": "stream",
          "text": [
            "[[2 3 4]\n",
            " [5 8 7]]\n",
            "<class 'numpy.ndarray'>\n"
          ],
          "name": "stdout"
        }
      ]
    },
    {
      "metadata": {
        "id": "P6nxrfQD6nvX",
        "colab_type": "code",
        "colab": {}
      },
      "cell_type": "code",
      "source": [
        "#axes\n",
        "# axis = 0 => \n",
        "# axis = 1 => "
      ],
      "execution_count": 0,
      "outputs": []
    },
    {
      "metadata": {
        "id": "RWCuSjqe7AHO",
        "colab_type": "code",
        "outputId": "33a685de-5762-4324-829c-f8751c832828",
        "colab": {
          "base_uri": "https://localhost:8080/",
          "height": 68
        }
      },
      "cell_type": "code",
      "source": [
        "# Difference between list and ndarray\n",
        "list_1 = [3,6,7,5]\n",
        "list_2=[4,5,1,7]\n",
        "# the list way to do it: map a function to the two lists\n",
        "product_list = list(map(lambda x, y: x*y, list_1, list_2))\n",
        "print (product_list)\n",
        "\n",
        "# The numpy array way to do it: simply multiply the two arrays. \n",
        "# Size should be equal for both arrays\n",
        "array_1 = np.array(list_1)\n",
        "array_2 = np.array(list_2)\n",
        "array_3 = array_1 * array_2\n",
        "print (array_3)\n",
        "print (type(array_3))"
      ],
      "execution_count": 0,
      "outputs": [
        {
          "output_type": "stream",
          "text": [
            "[12, 30, 7, 35]\n",
            "[12 30  7 35]\n",
            "<class 'numpy.ndarray'>\n"
          ],
          "name": "stdout"
        }
      ]
    },
    {
      "metadata": {
        "id": "hmQmie8n8ew2",
        "colab_type": "code",
        "outputId": "30d17363-b4f1-465c-e615-11cdceb777cd",
        "colab": {
          "base_uri": "https://localhost:8080/",
          "height": 51
        }
      },
      "cell_type": "code",
      "source": [
        "# Square list vs array\n",
        "squared_list_1 = [i**2 for i in list_1]\n",
        "print(squared_list_1)\n",
        "\n",
        "squared_array_1 = array_1 ** 2\n",
        "print(squared_array_1)"
      ],
      "execution_count": 0,
      "outputs": [
        {
          "output_type": "stream",
          "text": [
            "[9, 36, 49, 25]\n",
            "[ 9 36 49 25]\n"
          ],
          "name": "stdout"
        }
      ]
    },
    {
      "metadata": {
        "id": "8Pgu2QAa9yMQ",
        "colab_type": "code",
        "outputId": "53aeec8b-7d35-4266-8c32-48a51fcca5e6",
        "colab": {
          "base_uri": "https://localhost:8080/",
          "height": 51
        }
      },
      "cell_type": "code",
      "source": [
        "array_from_list = np.array([3,4,5,6])\n",
        "array_from_tuple = np.array((1,2,3,4))\n",
        "print(array_from_list)\n",
        "print(array_from_tuple)"
      ],
      "execution_count": 0,
      "outputs": [
        {
          "output_type": "stream",
          "text": [
            "[3 4 5 6]\n",
            "[1 2 3 4]\n"
          ],
          "name": "stdout"
        }
      ]
    },
    {
      "metadata": {
        "id": "fL9EjtjF-LS-",
        "colab_type": "code",
        "outputId": "b14bbf7a-bd5d-44fa-a5dd-313748c58d67",
        "colab": {
          "base_uri": "https://localhost:8080/",
          "height": 731
        }
      },
      "cell_type": "code",
      "source": [
        "# NumPy shortcuts to create common arrays as and when required\n",
        "\n",
        "help(np.ones)"
      ],
      "execution_count": 0,
      "outputs": [
        {
          "output_type": "stream",
          "text": [
            "Help on function ones in module numpy.core.numeric:\n",
            "\n",
            "ones(shape, dtype=None, order='C')\n",
            "    Return a new array of given shape and type, filled with ones.\n",
            "    \n",
            "    Parameters\n",
            "    ----------\n",
            "    shape : int or sequence of ints\n",
            "        Shape of the new array, e.g., ``(2, 3)`` or ``2``.\n",
            "    dtype : data-type, optional\n",
            "        The desired data-type for the array, e.g., `numpy.int8`.  Default is\n",
            "        `numpy.float64`.\n",
            "    order : {'C', 'F'}, optional\n",
            "        Whether to store multidimensional data in C- or Fortran-contiguous\n",
            "        (row- or column-wise) order in memory.\n",
            "    \n",
            "    Returns\n",
            "    -------\n",
            "    out : ndarray\n",
            "        Array of ones with the given shape, dtype, and order.\n",
            "    \n",
            "    See Also\n",
            "    --------\n",
            "    zeros, ones_like\n",
            "    \n",
            "    Examples\n",
            "    --------\n",
            "    >>> np.ones(5)\n",
            "    array([ 1.,  1.,  1.,  1.,  1.])\n",
            "    \n",
            "    >>> np.ones((5,), dtype=int)\n",
            "    array([1, 1, 1, 1, 1])\n",
            "    \n",
            "    >>> np.ones((2, 1))\n",
            "    array([[ 1.],\n",
            "           [ 1.]])\n",
            "    \n",
            "    >>> s = (2,2)\n",
            "    >>> np.ones(s)\n",
            "    array([[ 1.,  1.],\n",
            "           [ 1.,  1.]])\n",
            "\n"
          ],
          "name": "stdout"
        }
      ]
    },
    {
      "metadata": {
        "id": "r9LC55gh-iTC",
        "colab_type": "code",
        "outputId": "b8897e7b-30fe-49ea-ea0a-b63e5022fe3c",
        "colab": {
          "base_uri": "https://localhost:8080/",
          "height": 187
        }
      },
      "cell_type": "code",
      "source": [
        "# create Identity matrix for 5x3\n",
        "print(np.ones((5,3)))\n",
        "print(np.ones((5,3),dtype=np.int))"
      ],
      "execution_count": 0,
      "outputs": [
        {
          "output_type": "stream",
          "text": [
            "[[1. 1. 1.]\n",
            " [1. 1. 1.]\n",
            " [1. 1. 1.]\n",
            " [1. 1. 1.]\n",
            " [1. 1. 1.]]\n",
            "[[1 1 1]\n",
            " [1 1 1]\n",
            " [1 1 1]\n",
            " [1 1 1]\n",
            " [1 1 1]]\n"
          ],
          "name": "stdout"
        }
      ]
    },
    {
      "metadata": {
        "id": "Af7NhZfy-7kO",
        "colab_type": "code",
        "outputId": "09e50a88-0650-4f38-dca2-0b3d5190f1ea",
        "colab": {
          "base_uri": "https://localhost:8080/",
          "height": 102
        }
      },
      "cell_type": "code",
      "source": [
        "# create array of zeros\n",
        "\n",
        "np.zeros(4, dtype=np.int)\n",
        "\n",
        "# create an arry of random numbers\n",
        "np.random.random([3,4])\n",
        "\n",
        "numbers = np.arange(10,100, 5)\n",
        "print (numbers)\n",
        "\n",
        "np.linspace(15,18,25)"
      ],
      "execution_count": 0,
      "outputs": [
        {
          "output_type": "stream",
          "text": [
            "[10 15 20 25 30 35 40 45 50 55 60 65 70 75 80 85 90 95]\n"
          ],
          "name": "stdout"
        },
        {
          "output_type": "execute_result",
          "data": {
            "text/plain": [
              "array([15.   , 15.125, 15.25 , 15.375, 15.5  , 15.625, 15.75 , 15.875,\n",
              "       16.   , 16.125, 16.25 , 16.375, 16.5  , 16.625, 16.75 , 16.875,\n",
              "       17.   , 17.125, 17.25 , 17.375, 17.5  , 17.625, 17.75 , 17.875,\n",
              "       18.   ])"
            ]
          },
          "metadata": {
            "tags": []
          },
          "execution_count": 56
        }
      ]
    },
    {
      "metadata": {
        "id": "4sUN7g35BWmH",
        "colab_type": "code",
        "outputId": "aa0b8b84-1914-40c1-e1db-4cd8032389cf",
        "colab": {
          "base_uri": "https://localhost:8080/",
          "height": 867
        }
      },
      "cell_type": "code",
      "source": [
        "# Initialise an array of random numbers of size 1000x300\n",
        "rand_array = np.random.random((1000,300))\n",
        "print(rand_array[0,]) # Print first row"
      ],
      "execution_count": 0,
      "outputs": [
        {
          "output_type": "stream",
          "text": [
            "[0.45907528 0.75401805 0.40817842 0.95970927 0.40361463 0.64573745\n",
            " 0.84261964 0.52355271 0.70750421 0.80982217 0.92609239 0.96864465\n",
            " 0.35850267 0.05367661 0.91411961 0.4491092  0.9686621  0.08268776\n",
            " 0.36854355 0.59950053 0.00469936 0.83075136 0.00206565 0.46962513\n",
            " 0.84846603 0.47479705 0.67235484 0.2057091  0.3638239  0.51395704\n",
            " 0.08967521 0.66016977 0.77194244 0.82933771 0.19258277 0.8897256\n",
            " 0.3298637  0.83297026 0.5509336  0.02248607 0.54060487 0.04210925\n",
            " 0.05133414 0.92791314 0.07679252 0.50626373 0.99304822 0.10083278\n",
            " 0.08334529 0.81031647 0.80619803 0.92876883 0.0840616  0.39461222\n",
            " 0.34402243 0.95368426 0.47133754 0.37004544 0.35491683 0.17025317\n",
            " 0.6707711  0.73496693 0.88992725 0.10706536 0.60854429 0.18253813\n",
            " 0.4715292  0.66483864 0.52813188 0.65911149 0.81227683 0.16182905\n",
            " 0.76316495 0.37262047 0.25499378 0.14842032 0.88109824 0.85632956\n",
            " 0.89925824 0.68366243 0.52549775 0.68996904 0.0813697  0.98139342\n",
            " 0.96222972 0.43685813 0.89967943 0.98684587 0.28120392 0.83350524\n",
            " 0.82906452 0.49517787 0.70495229 0.40824751 0.776082   0.74260297\n",
            " 0.03109832 0.11163393 0.00273258 0.06210864 0.19521775 0.35911441\n",
            " 0.29376028 0.35680392 0.41750747 0.04537335 0.71691424 0.80325439\n",
            " 0.62950576 0.62541789 0.16001662 0.26600363 0.441029   0.87736444\n",
            " 0.55104596 0.8173132  0.46480237 0.67883851 0.73146281 0.9389362\n",
            " 0.66662109 0.98324158 0.92085758 0.15316911 0.24577514 0.90113752\n",
            " 0.00130377 0.60752218 0.86584821 0.76909748 0.49435263 0.97145226\n",
            " 0.3126127  0.8051445  0.40656254 0.05836862 0.94982616 0.6318321\n",
            " 0.14031461 0.71215888 0.91176017 0.27831216 0.73055759 0.29965504\n",
            " 0.02223616 0.1000384  0.49810374 0.60030845 0.14212069 0.62429167\n",
            " 0.28764537 0.09031501 0.34466333 0.2805324  0.4282867  0.39936721\n",
            " 0.60715807 0.48945303 0.82289185 0.42622913 0.39002881 0.38994701\n",
            " 0.08421443 0.02989104 0.50267129 0.04727975 0.17398596 0.02612664\n",
            " 0.23577137 0.78342194 0.95269169 0.64988659 0.49857538 0.85953407\n",
            " 0.92055388 0.29814251 0.4777597  0.67584205 0.68879913 0.42382761\n",
            " 0.68475978 0.93989653 0.99065914 0.35652334 0.56575309 0.48046889\n",
            " 0.25825137 0.97844564 0.26386326 0.93984644 0.98614489 0.82684094\n",
            " 0.30482824 0.26458374 0.60591098 0.98419551 0.86138798 0.62920988\n",
            " 0.93364334 0.09028602 0.37160406 0.81747439 0.10516396 0.31625385\n",
            " 0.30514038 0.39625402 0.76092645 0.80850477 0.76830787 0.53903854\n",
            " 0.96606657 0.93379618 0.13433737 0.73340138 0.28881663 0.49017656\n",
            " 0.53157456 0.367805   0.71575872 0.78503034 0.05039471 0.90135198\n",
            " 0.36116957 0.21532433 0.88390113 0.42709482 0.88080174 0.73054201\n",
            " 0.8288078  0.79001075 0.85985338 0.23807716 0.55700204 0.68569903\n",
            " 0.48426137 0.01549313 0.91342556 0.05735839 0.97941494 0.36354212\n",
            " 0.64799873 0.98462349 0.03741014 0.49055879 0.79376279 0.7058898\n",
            " 0.00959159 0.02273276 0.87215697 0.04576467 0.09667866 0.6438685\n",
            " 0.74949064 0.7870365  0.41908544 0.76998132 0.33514024 0.72357844\n",
            " 0.66121307 0.59195969 0.69329383 0.1178282  0.39325058 0.33696486\n",
            " 0.78677095 0.21378476 0.61493277 0.89846807 0.48728645 0.00583558\n",
            " 0.31071714 0.42302061 0.12740025 0.17933415 0.8535627  0.21078495\n",
            " 0.9737192  0.08982176 0.74893042 0.37007562 0.8854799  0.24517255\n",
            " 0.01712552 0.14556171 0.66568134 0.68858767 0.03786121 0.76631252\n",
            " 0.21990408 0.83993347 0.44256734 0.98699898 0.10598482 0.60325208\n",
            " 0.06190182 0.98739409 0.87733735 0.94171064 0.746953   0.48988283]\n"
          ],
          "name": "stdout"
        }
      ]
    },
    {
      "metadata": {
        "id": "IGPbHjjXCJuI",
        "colab_type": "code",
        "outputId": "aa7314a8-66d7-4cb9-d849-6a873c04af79",
        "colab": {
          "base_uri": "https://localhost:8080/",
          "height": 136
        }
      },
      "cell_type": "code",
      "source": [
        "# Creating a 3-d array\n",
        "# np.arange(24) will give numbers from 0 to 23 with step of 1.\n",
        "# reshape() simply reshapes a 1-D array\n",
        "array_3d = np.arange(24).reshape(2,3,4)\n",
        "print(array_3d)"
      ],
      "execution_count": 0,
      "outputs": [
        {
          "output_type": "stream",
          "text": [
            "[[[ 0  1  2  3]\n",
            "  [ 4  5  6  7]\n",
            "  [ 8  9 10 11]]\n",
            "\n",
            " [[12 13 14 15]\n",
            "  [16 17 18 19]\n",
            "  [20 21 22 23]]]\n"
          ],
          "name": "stdout"
        }
      ]
    },
    {
      "metadata": {
        "id": "FdfKh4eYEbru",
        "colab_type": "text"
      },
      "cell_type": "markdown",
      "source": [
        "## Subset, Slice, Index and Iterate through Arrays"
      ]
    },
    {
      "metadata": {
        "id": "P6quWACzEgTV",
        "colab_type": "code",
        "outputId": "828a1ba2-6948-481b-8431-b97b685fd080",
        "colab": {
          "base_uri": "https://localhost:8080/",
          "height": 34
        }
      },
      "cell_type": "code",
      "source": [
        "# Indexing and slicing 1-d array\n",
        "array_1d = np.arange(10)\n",
        "print(array_1d)"
      ],
      "execution_count": 0,
      "outputs": [
        {
          "output_type": "stream",
          "text": [
            "[0 1 2 3 4 5 6 7 8 9]\n"
          ],
          "name": "stdout"
        }
      ]
    },
    {
      "metadata": {
        "id": "BwXEA5XNEqOF",
        "colab_type": "code",
        "outputId": "7d9fa25d-f8ca-4e7b-86f8-ad5299e1ff87",
        "colab": {
          "base_uri": "https://localhost:8080/",
          "height": 119
        }
      },
      "cell_type": "code",
      "source": [
        "# Third element\n",
        "print(array_1d[2])\n",
        "\n",
        "# Specific elements\n",
        "print(array_1d[[2,5,6]])\n",
        "\n",
        "# Slice 3rd element onwards\n",
        "print(array_1d[2:])\n",
        "\n",
        "# Slice first 3 elements\n",
        "print(array_1d[:3])\n",
        "\n",
        "# Slice third to seventh elements\n",
        "print(array_1d[2:7])\n",
        "\n",
        "# Subset starting 0 at increment of 2\n",
        "print(array_1d[0::2])"
      ],
      "execution_count": 0,
      "outputs": [
        {
          "output_type": "stream",
          "text": [
            "2\n",
            "[2 5 6]\n",
            "[2 3 4 5 6 7 8 9]\n",
            "[0 1 2]\n",
            "[2 3 4 5 6]\n",
            "[0 2 4 6 8]\n"
          ],
          "name": "stdout"
        }
      ]
    },
    {
      "metadata": {
        "id": "QRV5vyUhFzyl",
        "colab_type": "code",
        "outputId": "53cf4f43-bf93-4831-e6e8-6c08d01fa793",
        "colab": {
          "base_uri": "https://localhost:8080/",
          "height": 187
        }
      },
      "cell_type": "code",
      "source": [
        "# Iterate through arrays\n",
        "\n",
        "for i in array_1d:\n",
        "  print(i**2)\n"
      ],
      "execution_count": 0,
      "outputs": [
        {
          "output_type": "stream",
          "text": [
            "0\n",
            "1\n",
            "4\n",
            "9\n",
            "16\n",
            "25\n",
            "36\n",
            "49\n",
            "64\n",
            "81\n"
          ],
          "name": "stdout"
        }
      ]
    },
    {
      "metadata": {
        "id": "_g_Y_dokGLWV",
        "colab_type": "code",
        "outputId": "56a03f77-8dc0-41d9-9e24-77a0d1b1f97a",
        "colab": {
          "base_uri": "https://localhost:8080/",
          "height": 68
        }
      },
      "cell_type": "code",
      "source": [
        "array_2d = np.array([[2,5,7,5],[4,6,8,10],[10,12,15,19]])\n",
        "print(array_2d)"
      ],
      "execution_count": 0,
      "outputs": [
        {
          "output_type": "stream",
          "text": [
            "[[ 2  5  7  5]\n",
            " [ 4  6  8 10]\n",
            " [10 12 15 19]]\n"
          ],
          "name": "stdout"
        }
      ]
    },
    {
      "metadata": {
        "id": "RSk8-bl1Jh9N",
        "colab_type": "code",
        "outputId": "47bf7862-3ab7-4718-e4d5-34a4022ec508",
        "colab": {
          "base_uri": "https://localhost:8080/",
          "height": 170
        }
      },
      "cell_type": "code",
      "source": [
        "print(array_2d[2,1]) # 3rd row 2nd column\n",
        "\n",
        "# Slicing second row, and all columns\n",
        "print(array_2d[1,:])\n",
        "print (type(array_2d[1,:]))\n",
        "\n",
        "# Slicing all rows and 3rd column\n",
        "print(array_2d[:,2])\n",
        "\n",
        "# Slicing all rows and first 3 columns\n",
        "print(array_2d[:, :3])\n",
        "\n",
        "# Picking first and 3rd row and all columns\n",
        "print(array_2d[[0,2],:])"
      ],
      "execution_count": 0,
      "outputs": [
        {
          "output_type": "stream",
          "text": [
            "12\n",
            "[ 4  6  8 10]\n",
            "<class 'numpy.ndarray'>\n",
            "[ 7  8 15]\n",
            "[[ 2  5  7]\n",
            " [ 4  6  8]\n",
            " [10 12 15]]\n",
            "[[ 2  5  7  5]\n",
            " [10 12 15 19]]\n"
          ],
          "name": "stdout"
        }
      ]
    },
    {
      "metadata": {
        "id": "VYZpw6CILYtv",
        "colab_type": "code",
        "outputId": "eef43a3e-f62b-4c9c-c1d4-73ec9c46018e",
        "colab": {
          "base_uri": "https://localhost:8080/",
          "height": 68
        }
      },
      "cell_type": "code",
      "source": [
        "# Iterating over 2-d arrays\n",
        "for row in array_2d:\n",
        "  print(row)"
      ],
      "execution_count": 0,
      "outputs": [
        {
          "output_type": "stream",
          "text": [
            "[2 5 7 5]\n",
            "[ 4  6  8 10]\n",
            "[10 12 15 19]\n"
          ],
          "name": "stdout"
        }
      ]
    },
    {
      "metadata": {
        "id": "AW40kYRjMrAV",
        "colab_type": "text"
      },
      "cell_type": "markdown",
      "source": [
        "## Comparison between NumPy arrays and normal Python list"
      ]
    },
    {
      "metadata": {
        "id": "QKL3jT6aMx6l",
        "colab_type": "code",
        "outputId": "1357ff00-1c14-465c-f055-f3a2b42be085",
        "colab": {
          "base_uri": "https://localhost:8080/",
          "height": 68
        }
      },
      "cell_type": "code",
      "source": [
        "# Comparing time taken for computation\n",
        "list_1 = [i for i in range(1000000)]\n",
        "list_2 = [i**2 for i in range(1000000)]\n",
        "\n",
        "# list multiplication\n",
        "import time\n",
        "\n",
        "# store start time, time after computation, and take the difference\n",
        "t0 = time.time()\n",
        "product_list = list(map(lambda x,y: x*y, list_1, list_2))\n",
        "t1 = time.time()\n",
        "list_time = t1-t0\n",
        "print (list_time)\n",
        "\n",
        "# Numpy arrays\n",
        "array_1 = np.array(list_1)\n",
        "array_2 = np.array(list_2)\n",
        "\n",
        "t2 = time.time()\n",
        "product_array = array_1 * array_2\n",
        "t3 = time.time()\n",
        "array_time = t3-t2\n",
        "print (array_time)\n",
        "\n",
        "print(\"The ratio of time taken is {}\".format(list_time/array_time))"
      ],
      "execution_count": 0,
      "outputs": [
        {
          "output_type": "stream",
          "text": [
            "0.22791552543640137\n",
            "0.010183095932006836\n",
            "The ratio of time taken is 22.381751773547798\n"
          ],
          "name": "stdout"
        }
      ]
    },
    {
      "metadata": {
        "id": "vtbOJDvIQFiO",
        "colab_type": "text"
      },
      "cell_type": "markdown",
      "source": [
        "## Operations on Numpy arrays"
      ]
    },
    {
      "metadata": {
        "id": "_2O3tEOQQVGk",
        "colab_type": "code",
        "outputId": "0ea1277b-b98a-4f09-ef9b-8f254773466f",
        "colab": {
          "base_uri": "https://localhost:8080/",
          "height": 238
        }
      },
      "cell_type": "code",
      "source": [
        "array_1 = np.arange(0,12).reshape(3,4)\n",
        "array_2 = array_1.reshape(2,6)\n",
        "print(array_1)\n",
        "print(array_2)\n",
        "\n",
        "# Define 1 dimension and another one as \"-1\" and numpy will automatically \n",
        "# compute other dimension size\n",
        "print(array_2.reshape(4,-1)) \n",
        "\n",
        "# Transpose of array\n",
        "print(array_1.T)"
      ],
      "execution_count": 0,
      "outputs": [
        {
          "output_type": "stream",
          "text": [
            "[[ 0  1  2  3]\n",
            " [ 4  5  6  7]\n",
            " [ 8  9 10 11]]\n",
            "[[ 0  1  2  3  4  5]\n",
            " [ 6  7  8  9 10 11]]\n",
            "[[ 0  1  2]\n",
            " [ 3  4  5]\n",
            " [ 6  7  8]\n",
            " [ 9 10 11]]\n",
            "[[ 0  4  8]\n",
            " [ 1  5  9]\n",
            " [ 2  6 10]\n",
            " [ 3  7 11]]\n"
          ],
          "name": "stdout"
        }
      ]
    },
    {
      "metadata": {
        "id": "h9VTPt4bjd5a",
        "colab_type": "text"
      },
      "cell_type": "markdown",
      "source": [
        "## Stacking: Horizontal stack and Vertical stack"
      ]
    },
    {
      "metadata": {
        "id": "sDp5sJ1XjP6y",
        "colab_type": "code",
        "outputId": "56beab83-da28-4ba1-a0c9-5a0bf2b82fcc",
        "colab": {
          "base_uri": "https://localhost:8080/",
          "height": 289
        }
      },
      "cell_type": "code",
      "source": [
        "array_1 = np.arange(12).reshape(3,4)\n",
        "array_2 = np.arange(12,32).reshape(5,4)\n",
        "\n",
        "print(array_1)\n",
        "print (array_2)\n",
        "\n",
        "#Vstack : Columns should be same for both arrays\n",
        "np.vstack((array_1, array_2))"
      ],
      "execution_count": 0,
      "outputs": [
        {
          "output_type": "stream",
          "text": [
            "[[ 0  1  2  3]\n",
            " [ 4  5  6  7]\n",
            " [ 8  9 10 11]]\n",
            "[[12 13 14 15]\n",
            " [16 17 18 19]\n",
            " [20 21 22 23]\n",
            " [24 25 26 27]\n",
            " [28 29 30 31]]\n"
          ],
          "name": "stdout"
        },
        {
          "output_type": "execute_result",
          "data": {
            "text/plain": [
              "array([[ 0,  1,  2,  3],\n",
              "       [ 4,  5,  6,  7],\n",
              "       [ 8,  9, 10, 11],\n",
              "       [12, 13, 14, 15],\n",
              "       [16, 17, 18, 19],\n",
              "       [20, 21, 22, 23],\n",
              "       [24, 25, 26, 27],\n",
              "       [28, 29, 30, 31]])"
            ]
          },
          "metadata": {
            "tags": []
          },
          "execution_count": 70
        }
      ]
    },
    {
      "metadata": {
        "id": "MGXPT5cUkRpz",
        "colab_type": "code",
        "outputId": "967be671-729a-4943-e927-b600491f6a2b",
        "colab": {
          "base_uri": "https://localhost:8080/",
          "height": 221
        }
      },
      "cell_type": "code",
      "source": [
        "array_3 = np.arange(12).reshape(4,3)\n",
        "array_4 = np.arange(12,32).reshape(4,5)\n",
        "\n",
        "print(array_3)\n",
        "print(array_4)\n",
        "\n",
        "#Hstack : Rows should be same\n",
        "np.hstack((array_3, array_4))"
      ],
      "execution_count": 0,
      "outputs": [
        {
          "output_type": "stream",
          "text": [
            "[[ 0  1  2]\n",
            " [ 3  4  5]\n",
            " [ 6  7  8]\n",
            " [ 9 10 11]]\n",
            "[[12 13 14 15 16]\n",
            " [17 18 19 20 21]\n",
            " [22 23 24 25 26]\n",
            " [27 28 29 30 31]]\n"
          ],
          "name": "stdout"
        },
        {
          "output_type": "execute_result",
          "data": {
            "text/plain": [
              "array([[ 0,  1,  2, 12, 13, 14, 15, 16],\n",
              "       [ 3,  4,  5, 17, 18, 19, 20, 21],\n",
              "       [ 6,  7,  8, 22, 23, 24, 25, 26],\n",
              "       [ 9, 10, 11, 27, 28, 29, 30, 31]])"
            ]
          },
          "metadata": {
            "tags": []
          },
          "execution_count": 71
        }
      ]
    },
    {
      "metadata": {
        "id": "vZhJ4l0DlPzT",
        "colab_type": "text"
      },
      "cell_type": "markdown",
      "source": [
        "## User-defined functions on array"
      ]
    },
    {
      "metadata": {
        "id": "HlZwPzFRlUdJ",
        "colab_type": "code",
        "outputId": "f107aa47-fad5-4837-f950-475f3c997a5f",
        "colab": {
          "base_uri": "https://localhost:8080/",
          "height": 221
        }
      },
      "cell_type": "code",
      "source": [
        "# basic functions\n",
        "array_1 = np.arange(1,13).reshape(3,4)\n",
        "\n",
        "print(np.sin(array_1))\n",
        "print(np.cos(array_1))\n",
        "print(np.exp(array_1))\n",
        "print(np.log(array_1))"
      ],
      "execution_count": 0,
      "outputs": [
        {
          "output_type": "stream",
          "text": [
            "[[ 0.84147098  0.90929743  0.14112001 -0.7568025 ]\n",
            " [-0.95892427 -0.2794155   0.6569866   0.98935825]\n",
            " [ 0.41211849 -0.54402111 -0.99999021 -0.53657292]]\n",
            "[[ 0.54030231 -0.41614684 -0.9899925  -0.65364362]\n",
            " [ 0.28366219  0.96017029  0.75390225 -0.14550003]\n",
            " [-0.91113026 -0.83907153  0.0044257   0.84385396]]\n",
            "[[2.71828183e+00 7.38905610e+00 2.00855369e+01 5.45981500e+01]\n",
            " [1.48413159e+02 4.03428793e+02 1.09663316e+03 2.98095799e+03]\n",
            " [8.10308393e+03 2.20264658e+04 5.98741417e+04 1.62754791e+05]]\n",
            "[[0.         0.69314718 1.09861229 1.38629436]\n",
            " [1.60943791 1.79175947 1.94591015 2.07944154]\n",
            " [2.19722458 2.30258509 2.39789527 2.48490665]]\n"
          ],
          "name": "stdout"
        }
      ]
    },
    {
      "metadata": {
        "id": "hUZumv8mlsZ7",
        "colab_type": "code",
        "outputId": "7a017adf-b185-46d3-96d9-979a445f389f",
        "colab": {
          "base_uri": "https://localhost:8080/",
          "height": 139
        }
      },
      "cell_type": "code",
      "source": [
        "array_2 = np.arange(1,20)\n",
        "print(array_2)\n",
        "\n",
        "# Not recommended: Non-numpy way to apply user-defined function on array\n",
        "array_list = [x/(x+1) for x in array_2]\n",
        "print(array_list)\n",
        "\n",
        "# Recommended: The numpy way o vectorize function and apply it\n",
        "fn = np.vectorize(lambda x: x/(x+1))\n",
        "print(fn(array_2))"
      ],
      "execution_count": 0,
      "outputs": [
        {
          "output_type": "stream",
          "text": [
            "[ 1  2  3  4  5  6  7  8  9 10 11 12 13 14 15 16 17 18 19]\n",
            "[0.5, 0.6666666666666666, 0.75, 0.8, 0.8333333333333334, 0.8571428571428571, 0.875, 0.8888888888888888, 0.9, 0.9090909090909091, 0.9166666666666666, 0.9230769230769231, 0.9285714285714286, 0.9333333333333333, 0.9375, 0.9411764705882353, 0.9444444444444444, 0.9473684210526315, 0.95]\n",
            "[0.5        0.66666667 0.75       0.8        0.83333333 0.85714286\n",
            " 0.875      0.88888889 0.9        0.90909091 0.91666667 0.92307692\n",
            " 0.92857143 0.93333333 0.9375     0.94117647 0.94444444 0.94736842\n",
            " 0.95      ]\n"
          ],
          "name": "stdout"
        }
      ]
    },
    {
      "metadata": {
        "id": "czKnoLxxnRJ_",
        "colab_type": "text"
      },
      "cell_type": "markdown",
      "source": [
        "## Basic Linear Algebra operations"
      ]
    },
    {
      "metadata": {
        "id": "TVy_ElFDnXma",
        "colab_type": "code",
        "outputId": "ad0ff8f2-7cf3-45ae-9738-a60022d53740",
        "colab": {
          "base_uri": "https://localhost:8080/",
          "height": 170
        }
      },
      "cell_type": "code",
      "source": [
        "# np.linalg package\n",
        "\n",
        "array_1 = np.arange(1,10).reshape(3,3)\n",
        "array_2 = np.arange(1,13).reshape(3,4)\n",
        "\n",
        "print(array_1)\n",
        "print(array_2)\n",
        "\n",
        "print(np.dot(array_1, array_2))\n"
      ],
      "execution_count": 0,
      "outputs": [
        {
          "output_type": "stream",
          "text": [
            "[[1 2 3]\n",
            " [4 5 6]\n",
            " [7 8 9]]\n",
            "[[ 1  2  3  4]\n",
            " [ 5  6  7  8]\n",
            " [ 9 10 11 12]]\n",
            "[[ 38  44  50  56]\n",
            " [ 83  98 113 128]\n",
            " [128 152 176 200]]\n"
          ],
          "name": "stdout"
        }
      ]
    },
    {
      "metadata": {
        "id": "wPvOoVXxoqAx",
        "colab_type": "code",
        "outputId": "0f8c6275-6727-4309-c9b1-8a78c2263983",
        "colab": {
          "base_uri": "https://localhost:8080/",
          "height": 401
        }
      },
      "cell_type": "code",
      "source": [
        "# inverse - NOT WORKING\n",
        "#np.linalg.inv(array_1)"
      ],
      "execution_count": 0,
      "outputs": [
        {
          "output_type": "error",
          "ename": "LinAlgError",
          "evalue": "ignored",
          "traceback": [
            "\u001b[0;31m---------------------------------------------------------------------------\u001b[0m",
            "\u001b[0;31mLinAlgError\u001b[0m                               Traceback (most recent call last)",
            "\u001b[0;32m<ipython-input-90-9ee6035ba2c1>\u001b[0m in \u001b[0;36m<module>\u001b[0;34m()\u001b[0m\n\u001b[0;32m----> 1\u001b[0;31m \u001b[0mnp\u001b[0m\u001b[0;34m.\u001b[0m\u001b[0mlinalg\u001b[0m\u001b[0;34m.\u001b[0m\u001b[0minv\u001b[0m\u001b[0;34m(\u001b[0m\u001b[0mnp\u001b[0m\u001b[0;34m.\u001b[0m\u001b[0mones\u001b[0m\u001b[0;34m(\u001b[0m\u001b[0;34m(\u001b[0m\u001b[0;36m3\u001b[0m\u001b[0;34m,\u001b[0m\u001b[0;36m3\u001b[0m\u001b[0;34m)\u001b[0m\u001b[0;34m)\u001b[0m\u001b[0;34m)\u001b[0m\u001b[0;34m\u001b[0m\u001b[0;34m\u001b[0m\u001b[0m\n\u001b[0m",
            "\u001b[0;32m/usr/local/lib/python3.6/dist-packages/numpy/linalg/linalg.py\u001b[0m in \u001b[0;36minv\u001b[0;34m(a)\u001b[0m\n\u001b[1;32m    526\u001b[0m     \u001b[0msignature\u001b[0m \u001b[0;34m=\u001b[0m \u001b[0;34m'D->D'\u001b[0m \u001b[0;32mif\u001b[0m \u001b[0misComplexType\u001b[0m\u001b[0;34m(\u001b[0m\u001b[0mt\u001b[0m\u001b[0;34m)\u001b[0m \u001b[0;32melse\u001b[0m \u001b[0;34m'd->d'\u001b[0m\u001b[0;34m\u001b[0m\u001b[0;34m\u001b[0m\u001b[0m\n\u001b[1;32m    527\u001b[0m     \u001b[0mextobj\u001b[0m \u001b[0;34m=\u001b[0m \u001b[0mget_linalg_error_extobj\u001b[0m\u001b[0;34m(\u001b[0m\u001b[0m_raise_linalgerror_singular\u001b[0m\u001b[0;34m)\u001b[0m\u001b[0;34m\u001b[0m\u001b[0;34m\u001b[0m\u001b[0m\n\u001b[0;32m--> 528\u001b[0;31m     \u001b[0mainv\u001b[0m \u001b[0;34m=\u001b[0m \u001b[0m_umath_linalg\u001b[0m\u001b[0;34m.\u001b[0m\u001b[0minv\u001b[0m\u001b[0;34m(\u001b[0m\u001b[0ma\u001b[0m\u001b[0;34m,\u001b[0m \u001b[0msignature\u001b[0m\u001b[0;34m=\u001b[0m\u001b[0msignature\u001b[0m\u001b[0;34m,\u001b[0m \u001b[0mextobj\u001b[0m\u001b[0;34m=\u001b[0m\u001b[0mextobj\u001b[0m\u001b[0;34m)\u001b[0m\u001b[0;34m\u001b[0m\u001b[0;34m\u001b[0m\u001b[0m\n\u001b[0m\u001b[1;32m    529\u001b[0m     \u001b[0;32mreturn\u001b[0m \u001b[0mwrap\u001b[0m\u001b[0;34m(\u001b[0m\u001b[0mainv\u001b[0m\u001b[0;34m.\u001b[0m\u001b[0mastype\u001b[0m\u001b[0;34m(\u001b[0m\u001b[0mresult_t\u001b[0m\u001b[0;34m,\u001b[0m \u001b[0mcopy\u001b[0m\u001b[0;34m=\u001b[0m\u001b[0;32mFalse\u001b[0m\u001b[0;34m)\u001b[0m\u001b[0;34m)\u001b[0m\u001b[0;34m\u001b[0m\u001b[0;34m\u001b[0m\u001b[0m\n\u001b[1;32m    530\u001b[0m \u001b[0;34m\u001b[0m\u001b[0m\n",
            "\u001b[0;32m/usr/local/lib/python3.6/dist-packages/numpy/linalg/linalg.py\u001b[0m in \u001b[0;36m_raise_linalgerror_singular\u001b[0;34m(err, flag)\u001b[0m\n\u001b[1;32m     87\u001b[0m \u001b[0;34m\u001b[0m\u001b[0m\n\u001b[1;32m     88\u001b[0m \u001b[0;32mdef\u001b[0m \u001b[0m_raise_linalgerror_singular\u001b[0m\u001b[0;34m(\u001b[0m\u001b[0merr\u001b[0m\u001b[0;34m,\u001b[0m \u001b[0mflag\u001b[0m\u001b[0;34m)\u001b[0m\u001b[0;34m:\u001b[0m\u001b[0;34m\u001b[0m\u001b[0;34m\u001b[0m\u001b[0m\n\u001b[0;32m---> 89\u001b[0;31m     \u001b[0;32mraise\u001b[0m \u001b[0mLinAlgError\u001b[0m\u001b[0;34m(\u001b[0m\u001b[0;34m\"Singular matrix\"\u001b[0m\u001b[0;34m)\u001b[0m\u001b[0;34m\u001b[0m\u001b[0;34m\u001b[0m\u001b[0m\n\u001b[0m\u001b[1;32m     90\u001b[0m \u001b[0;34m\u001b[0m\u001b[0m\n\u001b[1;32m     91\u001b[0m \u001b[0;32mdef\u001b[0m \u001b[0m_raise_linalgerror_nonposdef\u001b[0m\u001b[0;34m(\u001b[0m\u001b[0merr\u001b[0m\u001b[0;34m,\u001b[0m \u001b[0mflag\u001b[0m\u001b[0;34m)\u001b[0m\u001b[0;34m:\u001b[0m\u001b[0;34m\u001b[0m\u001b[0;34m\u001b[0m\u001b[0m\n",
            "\u001b[0;31mLinAlgError\u001b[0m: Singular matrix"
          ]
        }
      ]
    },
    {
      "metadata": {
        "id": "iACx7pKbo7PY",
        "colab_type": "code",
        "outputId": "923f13dc-044c-455a-b82e-648727c1f0d2",
        "colab": {
          "base_uri": "https://localhost:8080/",
          "height": 34
        }
      },
      "cell_type": "code",
      "source": [
        "# Determinant value\n",
        "print(np.linalg.det(array_1))"
      ],
      "execution_count": 0,
      "outputs": [
        {
          "output_type": "stream",
          "text": [
            "0.0\n"
          ],
          "name": "stdout"
        }
      ]
    },
    {
      "metadata": {
        "id": "gH_woF_lo8R3",
        "colab_type": "code",
        "outputId": "ce908c0d-d813-40c4-f431-d2d049c3ab64",
        "colab": {
          "base_uri": "https://localhost:8080/",
          "height": 68
        }
      },
      "cell_type": "code",
      "source": [
        "# Eigen values and eigen vectors\n",
        "print(np.linalg.eig(array_1))"
      ],
      "execution_count": 0,
      "outputs": [
        {
          "output_type": "stream",
          "text": [
            "(array([ 1.61168440e+01, -1.11684397e+00, -1.30367773e-15]), array([[-0.23197069, -0.78583024,  0.40824829],\n",
            "       [-0.52532209, -0.08675134, -0.81649658],\n",
            "       [-0.8186735 ,  0.61232756,  0.40824829]]))\n"
          ],
          "name": "stdout"
        }
      ]
    }
  ]
}