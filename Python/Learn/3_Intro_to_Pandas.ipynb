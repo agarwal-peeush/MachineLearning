{
  "nbformat": 4,
  "nbformat_minor": 0,
  "metadata": {
    "colab": {
      "name": "3. Intro to Pandas.ipynb",
      "version": "0.3.2",
      "provenance": [],
      "private_outputs": true,
      "toc_visible": true,
      "include_colab_link": true
    },
    "kernelspec": {
      "name": "python3",
      "display_name": "Python 3"
    }
  },
  "cells": [
    {
      "cell_type": "markdown",
      "metadata": {
        "id": "view-in-github",
        "colab_type": "text"
      },
      "source": [
        "<a href=\"https://colab.research.google.com/github/agarwal-peeush/MachineLearning/blob/master/Python/Learn/3_Intro_to_Pandas.ipynb\" target=\"_parent\"><img src=\"https://colab.research.google.com/assets/colab-badge.svg\" alt=\"Open In Colab\"/></a>"
      ]
    },
    {
      "metadata": {
        "id": "rMpy4PpdUD2G",
        "colab_type": "text"
      },
      "cell_type": "markdown",
      "source": [
        "# Introduction to Pandas library"
      ]
    },
    {
      "metadata": {
        "id": "GNvBNc3a4rJp",
        "colab_type": "code",
        "colab": {}
      },
      "cell_type": "code",
      "source": [
        "import pandas as pd"
      ],
      "execution_count": 0,
      "outputs": []
    },
    {
      "metadata": {
        "id": "lCGf3eWYUOG5",
        "colab_type": "text"
      },
      "cell_type": "markdown",
      "source": [
        "## Series"
      ]
    },
    {
      "metadata": {
        "id": "dIXaQcpe7hjb",
        "colab_type": "text"
      },
      "cell_type": "markdown",
      "source": [
        "### Creating Pandas series using `pd.Series`"
      ]
    },
    {
      "metadata": {
        "id": "EoJpYKh06mg8",
        "colab_type": "code",
        "colab": {}
      },
      "cell_type": "code",
      "source": [
        "s = pd.Series([2,4,5,6,9])\n",
        "print(s)\n",
        "print(type(s))"
      ],
      "execution_count": 0,
      "outputs": []
    },
    {
      "metadata": {
        "id": "Mxd6Sl9W67hU",
        "colab_type": "code",
        "colab": {}
      },
      "cell_type": "code",
      "source": [
        "char_series = pd.Series(['a','b','af'])\n",
        "print(char_series)"
      ],
      "execution_count": 0,
      "outputs": []
    },
    {
      "metadata": {
        "id": "mDIkDN_L7DhV",
        "colab_type": "code",
        "colab": {}
      },
      "cell_type": "code",
      "source": [
        "# creating a series of timestamps\n",
        "date_series = pd.date_range(start = '11-09-2017', end='12-12-2017')\n",
        "print(date_series)\n",
        "print(type(date_series))"
      ],
      "execution_count": 0,
      "outputs": []
    },
    {
      "metadata": {
        "id": "ucIHry_g7sRL",
        "colab_type": "text"
      },
      "cell_type": "markdown",
      "source": [
        "### Indexing Series"
      ]
    },
    {
      "metadata": {
        "id": "9xgQQzWw7u27",
        "colab_type": "code",
        "colab": {}
      },
      "cell_type": "code",
      "source": [
        "# accessing 4th element\n",
        "print(s[3])\n",
        "\n",
        "# accessing elements starting index = 2 till end\n",
        "print(s[2:])\n",
        "\n",
        "# accessing 2nd and 4th element from Series\n",
        "print(s[[1,3]])"
      ],
      "execution_count": 0,
      "outputs": []
    },
    {
      "metadata": {
        "id": "W_8_9GAq8U0z",
        "colab_type": "text"
      },
      "cell_type": "markdown",
      "source": [
        "### Apply function"
      ]
    },
    {
      "metadata": {
        "id": "8uL3VtRy8Xpr",
        "colab_type": "code",
        "colab": {}
      },
      "cell_type": "code",
      "source": [
        "s.apply(lambda x: x**2)"
      ],
      "execution_count": 0,
      "outputs": []
    },
    {
      "metadata": {
        "id": "WANPtrXO8c7y",
        "colab_type": "code",
        "colab": {}
      },
      "cell_type": "code",
      "source": [
        "# numpy array\n",
        "import numpy as np\n",
        "\n",
        "#np.arange(10).apply(lambda x: x**2) # Gives error\n",
        "array_1 = np.arange(10)\n",
        "fn = np.vectorize(lambda x: x**2)\n",
        "print(fn(array_1))"
      ],
      "execution_count": 0,
      "outputs": []
    },
    {
      "metadata": {
        "id": "kMcJNo4j9qEb",
        "colab_type": "text"
      },
      "cell_type": "markdown",
      "source": [
        "## DataFrames"
      ]
    },
    {
      "metadata": {
        "id": "Dr0LJe9t_qbT",
        "colab_type": "text"
      },
      "cell_type": "markdown",
      "source": [
        "### Mounting Google drive locally"
      ]
    },
    {
      "metadata": {
        "id": "WZkaRs4S_vFV",
        "colab_type": "code",
        "colab": {}
      },
      "cell_type": "code",
      "source": [
        "from google.colab import drive\n",
        "drive.mount('/content/gdrive')"
      ],
      "execution_count": 0,
      "outputs": []
    },
    {
      "metadata": {
        "id": "UKahb-cI9tjC",
        "colab_type": "text"
      },
      "cell_type": "markdown",
      "source": [
        "### Creating dataframes from Dictionaries"
      ]
    },
    {
      "metadata": {
        "id": "0l_3kD-_9xZE",
        "colab_type": "code",
        "colab": {}
      },
      "cell_type": "code",
      "source": [
        "df = pd.DataFrame({'name':['Vinay','Kushal','Aman','Saif'],\n",
        "                  'age':[22,25,24,28],\n",
        "                  'occupation':['engineer','doctor','data analyst','teacher']})\n",
        "df"
      ],
      "execution_count": 0,
      "outputs": []
    },
    {
      "metadata": {
        "id": "D3ee9y83Bytq",
        "colab_type": "text"
      },
      "cell_type": "markdown",
      "source": [
        "### Working with dataframe from csv file"
      ]
    },
    {
      "metadata": {
        "id": "1ozaD0UV_-Vz",
        "colab_type": "code",
        "colab": {}
      },
      "cell_type": "code",
      "source": [
        "# read csv file as dataframe\n",
        "market_df = pd.read_csv('/content/gdrive/My Drive/Colab Notebooks/Datasets/global_sales_data/market_fact.csv')"
      ],
      "execution_count": 0,
      "outputs": []
    },
    {
      "metadata": {
        "id": "SG1mlwuiAwdz",
        "colab_type": "code",
        "colab": {}
      },
      "cell_type": "code",
      "source": [
        "# Looking at top entries of dataframes\n",
        "market_df.head()"
      ],
      "execution_count": 0,
      "outputs": []
    },
    {
      "metadata": {
        "id": "ltwL1hxIA2h6",
        "colab_type": "code",
        "colab": {}
      },
      "cell_type": "code",
      "source": [
        "# Looking at bottom entries of dataframes\n",
        "market_df.tail()"
      ],
      "execution_count": 0,
      "outputs": []
    },
    {
      "metadata": {
        "id": "j4AWCKk8BIIC",
        "colab_type": "code",
        "colab": {}
      },
      "cell_type": "code",
      "source": [
        "# Looking at the global info about dataframe\n",
        "market_df.info()"
      ],
      "execution_count": 0,
      "outputs": []
    },
    {
      "metadata": {
        "id": "arPX_XKkB9o0",
        "colab_type": "code",
        "colab": {}
      },
      "cell_type": "code",
      "source": [
        "# describe dataframe : Gives summary of all numeric columns in the dataset\n",
        "\n",
        "market_df.describe()"
      ],
      "execution_count": 0,
      "outputs": []
    },
    {
      "metadata": {
        "id": "9t--H7iSCSmy",
        "colab_type": "code",
        "colab": {}
      },
      "cell_type": "code",
      "source": [
        "# Column names of dataframe\n",
        "market_df.columns"
      ],
      "execution_count": 0,
      "outputs": []
    },
    {
      "metadata": {
        "id": "Yfr8subfCXid",
        "colab_type": "code",
        "colab": {}
      },
      "cell_type": "code",
      "source": [
        "# The number of rows and columns\n",
        "market_df.shape"
      ],
      "execution_count": 0,
      "outputs": []
    },
    {
      "metadata": {
        "id": "fl7B5sf5Cf0G",
        "colab_type": "code",
        "colab": {}
      },
      "cell_type": "code",
      "source": [
        "# You can extract the values of dataframe as a numpy array using df.values\n",
        "market_df.values"
      ],
      "execution_count": 0,
      "outputs": []
    },
    {
      "metadata": {
        "id": "z6_QGbJiDpX9",
        "colab_type": "code",
        "colab": {}
      },
      "cell_type": "code",
      "source": [
        "# setting index to \"Ord_id\"\n",
        "df2 = market_df.set_index('Ord_id', inplace=False)\n",
        "df2.head()\n",
        "#market_df.head()"
      ],
      "execution_count": 0,
      "outputs": []
    },
    {
      "metadata": {
        "id": "l5aOD0Z8ECH4",
        "colab_type": "code",
        "colab": {}
      },
      "cell_type": "code",
      "source": [
        "# Sort dataframes by index\n",
        "market_df.sort_index(ascending = False)"
      ],
      "execution_count": 0,
      "outputs": []
    },
    {
      "metadata": {
        "id": "8LIqHpOrELaE",
        "colab_type": "code",
        "colab": {}
      },
      "cell_type": "code",
      "source": [
        "# Sort data frames by values\n",
        "market_df.sort_values(by='Sales').head()"
      ],
      "execution_count": 0,
      "outputs": []
    },
    {
      "metadata": {
        "id": "kG4d3Cq1EU9C",
        "colab_type": "code",
        "colab": {}
      },
      "cell_type": "code",
      "source": [
        "# Sort in decreasing order of shipping cost\n",
        "market_df.sort_values(by='Shipping_Cost', ascending=False).head()"
      ],
      "execution_count": 0,
      "outputs": []
    },
    {
      "metadata": {
        "id": "CTPNooChEik7",
        "colab_type": "code",
        "colab": {}
      },
      "cell_type": "code",
      "source": [
        "# Sort by more than 2 columns\n",
        "\n",
        "# Sort in ascending order of Sales for each Product\n",
        "market_df.sort_values(by=['Prod_id','Sales'],ascending=False)"
      ],
      "execution_count": 0,
      "outputs": []
    },
    {
      "metadata": {
        "id": "arfVAeVLE77b",
        "colab_type": "code",
        "colab": {}
      },
      "cell_type": "code",
      "source": [
        "# Sort by more than 2 columns\n",
        "\n",
        "# Sort in ascending order of Sales for each Product\n",
        "market_df.sort_values(by=['Prod_id','Sales'],ascending=[False,True])"
      ],
      "execution_count": 0,
      "outputs": []
    },
    {
      "metadata": {
        "id": "Ds4oIUf6GgIA",
        "colab_type": "text"
      },
      "cell_type": "markdown",
      "source": [
        "### Indexing and Selection in dataframe"
      ]
    },
    {
      "metadata": {
        "id": "f2Hjpr3MGmWW",
        "colab_type": "code",
        "colab": {}
      },
      "cell_type": "code",
      "source": [
        "# Selecting the rows from indices 2 to 6\n",
        "market_df[2:7]"
      ],
      "execution_count": 0,
      "outputs": []
    },
    {
      "metadata": {
        "id": "JjclL2aAH5AS",
        "colab_type": "code",
        "colab": {}
      },
      "cell_type": "code",
      "source": [
        "# Selecting alternate rows starting from index = 5\n",
        "market_df[5::2].head()"
      ],
      "execution_count": 0,
      "outputs": []
    },
    {
      "metadata": {
        "id": "7k-FZc5tIZqZ",
        "colab_type": "code",
        "colab": {}
      },
      "cell_type": "code",
      "source": [
        "# Select columns - using df['column']\n",
        "\n",
        "sales = market_df['Sales']\n",
        "print(sales.head())\n",
        "print(type(sales))"
      ],
      "execution_count": 0,
      "outputs": []
    },
    {
      "metadata": {
        "id": "4VGdLWWvIj8Z",
        "colab_type": "code",
        "colab": {}
      },
      "cell_type": "code",
      "source": [
        "# Select columns - using df.column\n",
        "sales = market_df.Sales\n",
        "print(sales.head())\n",
        "print(type(sales))"
      ],
      "execution_count": 0,
      "outputs": []
    },
    {
      "metadata": {
        "id": "o6YoDb9lIq6k",
        "colab_type": "code",
        "colab": {}
      },
      "cell_type": "code",
      "source": [
        "# Select multiple columns\n",
        "market_df[['Cust_id','Sales','Profit']].head()"
      ],
      "execution_count": 0,
      "outputs": []
    },
    {
      "metadata": {
        "id": "aA4h6Q4uJK9Z",
        "colab_type": "code",
        "colab": {}
      },
      "cell_type": "code",
      "source": [
        "print(type(market_df[['Cust_id','Sales','Profit']]))"
      ],
      "execution_count": 0,
      "outputs": []
    },
    {
      "metadata": {
        "id": "9nDJEHNUM8ID",
        "colab_type": "code",
        "colab": {}
      },
      "cell_type": "code",
      "source": [
        "# Similarly, using double square brackets, if we select one column, we'll get df and not Series\n",
        "type(market_df[['Sales']])\n",
        "\n",
        "market_df[['Sales']].head()"
      ],
      "execution_count": 0,
      "outputs": []
    },
    {
      "metadata": {
        "id": "P8oLspOuNvdy",
        "colab_type": "code",
        "colab": {}
      },
      "cell_type": "code",
      "source": [
        "market_df[2] # gives error because pandas doesn't know if it is row index or column label or what not\n",
        "# we use pd.DataFrame.iloc or pd.DataFrame.loc"
      ],
      "execution_count": 0,
      "outputs": []
    },
    {
      "metadata": {
        "id": "CVXzGRs6RiwI",
        "colab_type": "code",
        "colab": {}
      },
      "cell_type": "code",
      "source": [
        "# Selecting a single element\n",
        "# Note that 2,4 corresponds to the third row and 5th column (Sales)\n",
        "market_df.iloc[2,4]"
      ],
      "execution_count": 0,
      "outputs": []
    },
    {
      "metadata": {
        "id": "TkECplXVR0Dt",
        "colab_type": "code",
        "colab": {}
      },
      "cell_type": "code",
      "source": [
        "# Selecting a single row and all columns \n",
        "# Select 6th row, with label (and index) = 5\n",
        "print(market_df.iloc[5])\n",
        "\n",
        "# equivalent to \n",
        "print(market_df.iloc[5,:])\n",
        "\n",
        "# equivalent to \n",
        "print(market_df.iloc[5,])"
      ],
      "execution_count": 0,
      "outputs": []
    },
    {
      "metadata": {
        "id": "PT9fPQjPSlxy",
        "colab_type": "code",
        "colab": {}
      },
      "cell_type": "code",
      "source": [
        "# Selecting multiple rows using a list of indices\n",
        "market_df.iloc[[5,7,8]]\n",
        "\n",
        "# equivalent to market_df.iloc[[5,7,8],:]\n",
        "# equivalent to market_df.iloc[[5,7,8],]"
      ],
      "execution_count": 0,
      "outputs": []
    },
    {
      "metadata": {
        "id": "X2UAQPI3S2mz",
        "colab_type": "code",
        "colab": {}
      },
      "cell_type": "code",
      "source": [
        "market_df.iloc[4:8]\n",
        "# equivalent to market_df.iloc[4:8,:]\n",
        "# equivalent to market_df.iloc[4:8,]"
      ],
      "execution_count": 0,
      "outputs": []
    },
    {
      "metadata": {
        "id": "BUMEOFjITGoU",
        "colab_type": "code",
        "colab": {}
      },
      "cell_type": "code",
      "source": [
        "# Selecting a single column\n",
        "market_df.iloc[:,2].head()"
      ],
      "execution_count": 0,
      "outputs": []
    },
    {
      "metadata": {
        "id": "M9dxzjVlTS3f",
        "colab_type": "code",
        "colab": {}
      },
      "cell_type": "code",
      "source": [
        "market_df.iloc[2:5,3:8]"
      ],
      "execution_count": 0,
      "outputs": []
    },
    {
      "metadata": {
        "id": "TITskhtrTaKY",
        "colab_type": "code",
        "colab": {}
      },
      "cell_type": "code",
      "source": [
        "# using booleans\n",
        "# This selects the rows corresponding to True\n",
        "market_df.iloc[[True, True, False, True]]"
      ],
      "execution_count": 0,
      "outputs": []
    },
    {
      "metadata": {
        "id": "_98ZHqrYVA-n",
        "colab_type": "text"
      },
      "cell_type": "markdown",
      "source": [
        "#### Label based indexing"
      ]
    },
    {
      "metadata": {
        "id": "1ZSZH1GyVEkI",
        "colab_type": "code",
        "colab": {}
      },
      "cell_type": "code",
      "source": [
        "print(market_df.loc[5]) # Row with label=5 and not index\n",
        "print(market_df.loc[[3,7,8],'Sales']) # Rows with label=[3,7,8]"
      ],
      "execution_count": 0,
      "outputs": []
    },
    {
      "metadata": {
        "id": "vPTFcv9fWgjL",
        "colab_type": "code",
        "colab": {}
      },
      "cell_type": "code",
      "source": [
        "df2.loc['Ord_5406','Sales'] #'Ord_5406' => label or index name"
      ],
      "execution_count": 0,
      "outputs": []
    },
    {
      "metadata": {
        "id": "mQzFtDaMWxxo",
        "colab_type": "code",
        "colab": {}
      },
      "cell_type": "code",
      "source": [
        "df2.loc[['Ord_5406','Ord_5446','Ord_5485'],'Sales':'Profit']"
      ],
      "execution_count": 0,
      "outputs": []
    },
    {
      "metadata": {
        "id": "yKqJiEpoXB7_",
        "colab_type": "code",
        "colab": {}
      },
      "cell_type": "code",
      "source": [
        "# using booleans\n",
        "market_df.loc[[True, True, False, True]]"
      ],
      "execution_count": 0,
      "outputs": []
    },
    {
      "metadata": {
        "id": "gYyFFaDQYCLy",
        "colab_type": "text"
      },
      "cell_type": "markdown",
      "source": [
        "### Slicing and dicing on DataFrame"
      ]
    },
    {
      "metadata": {
        "id": "dilyrFZ6YH8I",
        "colab_type": "code",
        "colab": {}
      },
      "cell_type": "code",
      "source": [
        "df = pd.read_csv('/content/gdrive/My Drive/Colab Notebooks/Datasets/global_sales_data/market_fact.csv')\n",
        "df.head()"
      ],
      "execution_count": 0,
      "outputs": []
    },
    {
      "metadata": {
        "id": "WEnSwdU5Yptr",
        "colab_type": "code",
        "colab": {}
      },
      "cell_type": "code",
      "source": [
        "# Select all rows with Sales > 3000\n",
        "df.Sales > 3000\n",
        "df.loc[df.Sales > 3000].head()\n",
        "# Equivalent to df.loc[df['Sales'] > 3000, :]"
      ],
      "execution_count": 0,
      "outputs": []
    },
    {
      "metadata": {
        "id": "C4SjajrDZXYw",
        "colab_type": "code",
        "colab": {}
      },
      "cell_type": "code",
      "source": [
        "# We combine multiple conditions using the & operator\n",
        "df.loc[(df.Sales > 2000) & (df.Sales < 3000) & (df.Profit > 100), :].head()"
      ],
      "execution_count": 0,
      "outputs": []
    },
    {
      "metadata": {
        "id": "8t8yo3y2Z2qv",
        "colab_type": "code",
        "colab": {}
      },
      "cell_type": "code",
      "source": [
        "# The OR operator is '|'\n",
        "df.loc[(df.Sales > 2000) | (df.Profit > 100), :].head()"
      ],
      "execution_count": 0,
      "outputs": []
    },
    {
      "metadata": {
        "id": "KF60afKgaQbJ",
        "colab_type": "code",
        "colab": {}
      },
      "cell_type": "code",
      "source": [
        "df.loc[(df.Sales > 2000) & (df.Sales < 3000) & (df.Profit > 100),['Cust_id','Sales','Profit']].head()"
      ],
      "execution_count": 0,
      "outputs": []
    },
    {
      "metadata": {
        "id": "63EdNAPMac6v",
        "colab_type": "code",
        "colab": {}
      },
      "cell_type": "code",
      "source": [
        "# You may want to select rows whose column value is in an iterable\n",
        "\n",
        "customers_in_bangalore = ['Cust_1798','Cust_1519','Cust_637','Cust_851']\n",
        "\n",
        "# To get all the orders from these customers, use the isin() function\n",
        "df.loc[df['Cust_id'].isin(customers_in_bangalore), :]"
      ],
      "execution_count": 0,
      "outputs": []
    },
    {
      "metadata": {
        "id": "jTRc8naaeNhZ",
        "colab_type": "text"
      },
      "cell_type": "markdown",
      "source": [
        "### Merging and Concatenation of DataFrames"
      ]
    },
    {
      "metadata": {
        "id": "4ZlOOZZCeUPm",
        "colab_type": "code",
        "colab": {}
      },
      "cell_type": "code",
      "source": [
        "market_df = pd.read_csv('/content/gdrive/My Drive/Colab Notebooks/Datasets/global_sales_data/market_fact.csv')\n",
        "customer_df = pd.read_csv('/content/gdrive/My Drive/Colab Notebooks/Datasets/global_sales_data/cust_dimen.csv')\n",
        "product_df = pd.read_csv('/content/gdrive/My Drive/Colab Notebooks/Datasets/global_sales_data/prod_dimen.csv')\n",
        "shipping_df = pd.read_csv('/content/gdrive/My Drive/Colab Notebooks/Datasets/global_sales_data/shipping_dimen.csv')\n",
        "orders_df = pd.read_csv('/content/gdrive/My Drive/Colab Notebooks/Datasets/global_sales_data/orders_dimen.csv')"
      ],
      "execution_count": 0,
      "outputs": []
    },
    {
      "metadata": {
        "id": "uHLc93ZAfXnW",
        "colab_type": "code",
        "colab": {}
      },
      "cell_type": "code",
      "source": [
        "print(market_df.head())\n",
        "print(customer_df.head())\n",
        "print(product_df.head())\n",
        "print(shipping_df.head())\n",
        "print(orders_df.head())"
      ],
      "execution_count": 0,
      "outputs": []
    },
    {
      "metadata": {
        "id": "wliZkHLrfut_",
        "colab_type": "code",
        "colab": {}
      },
      "cell_type": "code",
      "source": [
        "# Merging the dataframes\n",
        "# Note that Cust_id is the common column/key, which is provided to the 'on' argument\n",
        "# how = 'inner' makes sure that only the customer ids present in both dfs are included in the result\n",
        "\n",
        "df_1 = pd.merge(market_df, customer_df, how='inner', on='Cust_id')\n",
        "df_1.head()"
      ],
      "execution_count": 0,
      "outputs": []
    }
  ]
}