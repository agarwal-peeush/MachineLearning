{
  "nbformat": 4,
  "nbformat_minor": 0,
  "metadata": {
    "colab": {
      "name": "2. Getting_Cleaning_Data.ipynb",
      "version": "0.3.2",
      "provenance": [],
      "toc_visible": true,
      "include_colab_link": true
    },
    "kernelspec": {
      "name": "python3",
      "display_name": "Python 3"
    }
  },
  "cells": [
    {
      "cell_type": "markdown",
      "metadata": {
        "id": "view-in-github",
        "colab_type": "text"
      },
      "source": [
        "<a href=\"https://colab.research.google.com/github/agarwal-peeush/MachineLearning/blob/master/Python/Learn/2_Getting_Cleaning_Data.ipynb\" target=\"_parent\"><img src=\"https://colab.research.google.com/assets/colab-badge.svg\" alt=\"Open In Colab\"/></a>"
      ]
    },
    {
      "metadata": {
        "id": "pQE4BfqWtIzT",
        "colab_type": "code",
        "colab": {}
      },
      "cell_type": "code",
      "source": [
        "import numpy as np\n",
        "import pandas as pd\n"
      ],
      "execution_count": 0,
      "outputs": []
    },
    {
      "metadata": {
        "id": "F7ZS6w13uLmZ",
        "colab_type": "text"
      },
      "cell_type": "markdown",
      "source": [
        "## Read from text files"
      ]
    },
    {
      "metadata": {
        "id": "abt1VD3xuOdp",
        "colab_type": "code",
        "colab": {}
      },
      "cell_type": "code",
      "source": [
        "# pd.read_csv({filename},sep={sep},encoding={encoding})"
      ],
      "execution_count": 0,
      "outputs": []
    },
    {
      "metadata": {
        "id": "iPCqLAgRuSe5",
        "colab_type": "text"
      },
      "cell_type": "markdown",
      "source": [
        "## Read from relational database"
      ]
    },
    {
      "metadata": {
        "id": "a36nbCYIuVri",
        "colab_type": "code",
        "colab": {}
      },
      "cell_type": "code",
      "source": [
        "import pymysql\n",
        "\n",
        "# create a connection object 'conn'\n",
        "conn = pymysql.connect(host = \"localhost\",\n",
        "                      user=\"root\",\n",
        "                      passwd=\"12345\",\n",
        "                      db=\"information_schema\")\n",
        "\n",
        "# create a cursor object c\n",
        "c = conn.cursor()\n",
        "\n",
        "# execute query using c.execute\n",
        "c.execute(\"select * from engines;\")\n",
        "\n",
        "# getting the first row of data as a tuple\n",
        "all_rows = c.fetchall()\n",
        "\n",
        "# to get only the first row, use c.fetchone() instead\n",
        "\n",
        "\n",
        "df = pd.DataFrame(list(all_rows), columns=[\"engine\", \"support\", \"comment\", \n",
        "                                           \"transactions\", \"XA\", \"savepoints\"])\n",
        "df.head()"
      ],
      "execution_count": 0,
      "outputs": []
    },
    {
      "metadata": {
        "id": "-pzBtI7Dynsp",
        "colab_type": "text"
      },
      "cell_type": "markdown",
      "source": [
        "## Read from websites - Website scrapping"
      ]
    },
    {
      "metadata": {
        "id": "a7xvWpm3ymKK",
        "colab_type": "code",
        "colab": {}
      },
      "cell_type": "code",
      "source": [
        "# 'BeautifulSoup' library is used to parse HTML files \n",
        "import requests, bs4\n",
        "\n",
        "# getting HTML data from the Google play web page\n",
        "url = \"https://play.google.com/store/apps/details?id=com.facebook.orca&hl=en\"\n",
        "req = requests.get(url)\n",
        "\n",
        "# create a bs4 object\n",
        "# To avoid warnings, provide \"html5lib\" explicitly\n",
        "soup = bs4.BeautifulSoup(req.text, \"html5lib\")\n",
        "#print(soup)\n",
        "\n",
        "# getting all the text inside class = \"review-body\"\n",
        "reviews = soup.select('.review-body')\n",
        "print(type(reviews))\n",
        "print(len(reviews))\n",
        "print(\"\\n\")\n",
        "\n",
        "# printing an element of the reviews list\n",
        "print(reviews[6])"
      ],
      "execution_count": 0,
      "outputs": []
    },
    {
      "metadata": {
        "id": "EGeHeAqH3IzB",
        "colab_type": "text"
      },
      "cell_type": "markdown",
      "source": [
        "## Read from APIs"
      ]
    },
    {
      "metadata": {
        "id": "pd5B5UTA3L2w",
        "colab_type": "code",
        "outputId": "c74152fc-85fe-4453-90bc-0bff5170d51e",
        "colab": {
          "base_uri": "https://localhost:8080/",
          "height": 139
        }
      },
      "cell_type": "code",
      "source": [
        "import requests, json\n",
        "\n",
        "# Make the request with the coordinates of San Francisco.\n",
        "parameters = {\"lat\": 37.78, \"lon\": -122.41}\n",
        "response = requests.get(\"http://api.open-notify.org/iss-pass.json\", params=parameters)\n",
        "\n",
        "# Get the response data as a python object.  Verify that it's a dictionary.\n",
        "data = response.json()\n",
        "print(type(data))\n",
        "print(data)\n",
        "\n",
        "print(response.headers)\n",
        "print(response.headers[\"content-type\"])\n",
        "\n",
        "\n",
        "# Get the response from the API endpoint.\n",
        "response = requests.get(\"http://api.open-notify.org/astros.json\")\n",
        "data = response.json()\n",
        "\n",
        "# 9 people are currently in space.\n",
        "print(data[\"number\"])\n",
        "print(data)"
      ],
      "execution_count": 0,
      "outputs": [
        {
          "output_type": "stream",
          "text": [
            "<class 'dict'>\n",
            "{'message': 'success', 'request': {'altitude': 100, 'datetime': 1545565491, 'latitude': 37.78, 'longitude': -122.41, 'passes': 5}, 'response': [{'duration': 337, 'risetime': 1545569461}, {'duration': 636, 'risetime': 1545575058}, {'duration': 594, 'risetime': 1545580879}, {'duration': 483, 'risetime': 1545586787}, {'duration': 512, 'risetime': 1545592642}]}\n",
            "{'Server': 'nginx/1.10.3', 'Date': 'Sun, 23 Dec 2018 11:56:58 GMT', 'Content-Type': 'application/json', 'Content-Length': '521', 'Connection': 'keep-alive', 'Via': '1.1 vegur'}\n",
            "application/json\n",
            "3\n",
            "{'people': [{'name': 'Oleg Kononenko', 'craft': 'ISS'}, {'name': 'David Saint-Jacques', 'craft': 'ISS'}, {'name': 'Anne McClain', 'craft': 'ISS'}], 'number': 3, 'message': 'success'}\n"
          ],
          "name": "stdout"
        }
      ]
    },
    {
      "metadata": {
        "id": "TOA1-0I17X2w",
        "colab_type": "text"
      },
      "cell_type": "markdown",
      "source": [
        "## Reading data from PDF files"
      ]
    },
    {
      "metadata": {
        "id": "9eJEC99a7aq_",
        "colab_type": "code",
        "colab": {}
      },
      "cell_type": "code",
      "source": [
        "import pyPDF2"
      ],
      "execution_count": 0,
      "outputs": []
    },
    {
      "metadata": {
        "id": "QVWT_w2V_PvP",
        "colab_type": "text"
      },
      "cell_type": "markdown",
      "source": [
        "# Mounting Google Drive locally"
      ]
    },
    {
      "metadata": {
        "id": "QZvzKJ0g_R9g",
        "colab_type": "code",
        "colab": {}
      },
      "cell_type": "code",
      "source": [
        "# from google.colab import drive\n",
        "# drive.mount('/content/gdrive')"
      ],
      "execution_count": 0,
      "outputs": []
    },
    {
      "metadata": {
        "id": "LSUQSaa88K9A",
        "colab_type": "text"
      },
      "cell_type": "markdown",
      "source": [
        "# Cleaning datasets"
      ]
    },
    {
      "metadata": {
        "id": "f31F_WlM8POP",
        "colab_type": "code",
        "outputId": "dc1af0df-e6d2-453a-e125-60b261d5b24b",
        "colab": {
          "base_uri": "https://localhost:8080/",
          "height": 233
        }
      },
      "cell_type": "code",
      "source": [
        "import numpy as np\n",
        "import pandas as pd\n",
        "\n",
        "df = pd.read_csv(\"/content/gdrive/My Drive/Colab Notebooks/melbourne.csv\")\n",
        "df.head()"
      ],
      "execution_count": 0,
      "outputs": [
        {
          "output_type": "execute_result",
          "data": {
            "text/html": [
              "<div>\n",
              "<style scoped>\n",
              "    .dataframe tbody tr th:only-of-type {\n",
              "        vertical-align: middle;\n",
              "    }\n",
              "\n",
              "    .dataframe tbody tr th {\n",
              "        vertical-align: top;\n",
              "    }\n",
              "\n",
              "    .dataframe thead th {\n",
              "        text-align: right;\n",
              "    }\n",
              "</style>\n",
              "<table border=\"1\" class=\"dataframe\">\n",
              "  <thead>\n",
              "    <tr style=\"text-align: right;\">\n",
              "      <th></th>\n",
              "      <th>Suburb</th>\n",
              "      <th>Address</th>\n",
              "      <th>Rooms</th>\n",
              "      <th>Type</th>\n",
              "      <th>Price</th>\n",
              "      <th>Method</th>\n",
              "      <th>SellerG</th>\n",
              "      <th>Date</th>\n",
              "      <th>Distance</th>\n",
              "      <th>Postcode</th>\n",
              "      <th>...</th>\n",
              "      <th>Bathroom</th>\n",
              "      <th>Car</th>\n",
              "      <th>Landsize</th>\n",
              "      <th>BuildingArea</th>\n",
              "      <th>YearBuilt</th>\n",
              "      <th>CouncilArea</th>\n",
              "      <th>Lattitude</th>\n",
              "      <th>Longtitude</th>\n",
              "      <th>Regionname</th>\n",
              "      <th>Propertycount</th>\n",
              "    </tr>\n",
              "  </thead>\n",
              "  <tbody>\n",
              "    <tr>\n",
              "      <th>0</th>\n",
              "      <td>Abbotsford</td>\n",
              "      <td>68 Studley St</td>\n",
              "      <td>2</td>\n",
              "      <td>h</td>\n",
              "      <td>NaN</td>\n",
              "      <td>SS</td>\n",
              "      <td>Jellis</td>\n",
              "      <td>03-09-2016</td>\n",
              "      <td>2.5</td>\n",
              "      <td>3067.0</td>\n",
              "      <td>...</td>\n",
              "      <td>1.0</td>\n",
              "      <td>1.0</td>\n",
              "      <td>126.0</td>\n",
              "      <td>NaN</td>\n",
              "      <td>NaN</td>\n",
              "      <td>Yarra</td>\n",
              "      <td>-37.8014</td>\n",
              "      <td>144.9958</td>\n",
              "      <td>Northern Metropolitan</td>\n",
              "      <td>4019.0</td>\n",
              "    </tr>\n",
              "    <tr>\n",
              "      <th>1</th>\n",
              "      <td>Abbotsford</td>\n",
              "      <td>85 Turner St</td>\n",
              "      <td>2</td>\n",
              "      <td>h</td>\n",
              "      <td>1480000.0</td>\n",
              "      <td>S</td>\n",
              "      <td>Biggin</td>\n",
              "      <td>03-12-2016</td>\n",
              "      <td>2.5</td>\n",
              "      <td>3067.0</td>\n",
              "      <td>...</td>\n",
              "      <td>1.0</td>\n",
              "      <td>1.0</td>\n",
              "      <td>202.0</td>\n",
              "      <td>NaN</td>\n",
              "      <td>NaN</td>\n",
              "      <td>Yarra</td>\n",
              "      <td>-37.7996</td>\n",
              "      <td>144.9984</td>\n",
              "      <td>Northern Metropolitan</td>\n",
              "      <td>4019.0</td>\n",
              "    </tr>\n",
              "    <tr>\n",
              "      <th>2</th>\n",
              "      <td>Abbotsford</td>\n",
              "      <td>25 Bloomburg St</td>\n",
              "      <td>2</td>\n",
              "      <td>h</td>\n",
              "      <td>1035000.0</td>\n",
              "      <td>S</td>\n",
              "      <td>Biggin</td>\n",
              "      <td>04-02-2016</td>\n",
              "      <td>2.5</td>\n",
              "      <td>3067.0</td>\n",
              "      <td>...</td>\n",
              "      <td>1.0</td>\n",
              "      <td>0.0</td>\n",
              "      <td>156.0</td>\n",
              "      <td>79.0</td>\n",
              "      <td>1900.0</td>\n",
              "      <td>Yarra</td>\n",
              "      <td>-37.8079</td>\n",
              "      <td>144.9934</td>\n",
              "      <td>Northern Metropolitan</td>\n",
              "      <td>4019.0</td>\n",
              "    </tr>\n",
              "    <tr>\n",
              "      <th>3</th>\n",
              "      <td>Abbotsford</td>\n",
              "      <td>18/659 Victoria St</td>\n",
              "      <td>3</td>\n",
              "      <td>u</td>\n",
              "      <td>NaN</td>\n",
              "      <td>VB</td>\n",
              "      <td>Rounds</td>\n",
              "      <td>04-02-2016</td>\n",
              "      <td>2.5</td>\n",
              "      <td>3067.0</td>\n",
              "      <td>...</td>\n",
              "      <td>2.0</td>\n",
              "      <td>1.0</td>\n",
              "      <td>0.0</td>\n",
              "      <td>NaN</td>\n",
              "      <td>NaN</td>\n",
              "      <td>Yarra</td>\n",
              "      <td>-37.8114</td>\n",
              "      <td>145.0116</td>\n",
              "      <td>Northern Metropolitan</td>\n",
              "      <td>4019.0</td>\n",
              "    </tr>\n",
              "    <tr>\n",
              "      <th>4</th>\n",
              "      <td>Abbotsford</td>\n",
              "      <td>5 Charles St</td>\n",
              "      <td>3</td>\n",
              "      <td>h</td>\n",
              "      <td>1465000.0</td>\n",
              "      <td>SP</td>\n",
              "      <td>Biggin</td>\n",
              "      <td>04-03-2017</td>\n",
              "      <td>2.5</td>\n",
              "      <td>3067.0</td>\n",
              "      <td>...</td>\n",
              "      <td>2.0</td>\n",
              "      <td>0.0</td>\n",
              "      <td>134.0</td>\n",
              "      <td>150.0</td>\n",
              "      <td>1900.0</td>\n",
              "      <td>Yarra</td>\n",
              "      <td>-37.8093</td>\n",
              "      <td>144.9944</td>\n",
              "      <td>Northern Metropolitan</td>\n",
              "      <td>4019.0</td>\n",
              "    </tr>\n",
              "  </tbody>\n",
              "</table>\n",
              "<p>5 rows × 21 columns</p>\n",
              "</div>"
            ],
            "text/plain": [
              "       Suburb             Address  Rooms Type      Price Method SellerG  \\\n",
              "0  Abbotsford       68 Studley St      2    h        NaN     SS  Jellis   \n",
              "1  Abbotsford        85 Turner St      2    h  1480000.0      S  Biggin   \n",
              "2  Abbotsford     25 Bloomburg St      2    h  1035000.0      S  Biggin   \n",
              "3  Abbotsford  18/659 Victoria St      3    u        NaN     VB  Rounds   \n",
              "4  Abbotsford        5 Charles St      3    h  1465000.0     SP  Biggin   \n",
              "\n",
              "         Date  Distance  Postcode      ...       Bathroom  Car  Landsize  \\\n",
              "0  03-09-2016       2.5    3067.0      ...            1.0  1.0     126.0   \n",
              "1  03-12-2016       2.5    3067.0      ...            1.0  1.0     202.0   \n",
              "2  04-02-2016       2.5    3067.0      ...            1.0  0.0     156.0   \n",
              "3  04-02-2016       2.5    3067.0      ...            2.0  1.0       0.0   \n",
              "4  04-03-2017       2.5    3067.0      ...            2.0  0.0     134.0   \n",
              "\n",
              "   BuildingArea  YearBuilt  CouncilArea Lattitude  Longtitude  \\\n",
              "0           NaN        NaN        Yarra  -37.8014    144.9958   \n",
              "1           NaN        NaN        Yarra  -37.7996    144.9984   \n",
              "2          79.0     1900.0        Yarra  -37.8079    144.9934   \n",
              "3           NaN        NaN        Yarra  -37.8114    145.0116   \n",
              "4         150.0     1900.0        Yarra  -37.8093    144.9944   \n",
              "\n",
              "              Regionname Propertycount  \n",
              "0  Northern Metropolitan        4019.0  \n",
              "1  Northern Metropolitan        4019.0  \n",
              "2  Northern Metropolitan        4019.0  \n",
              "3  Northern Metropolitan        4019.0  \n",
              "4  Northern Metropolitan        4019.0  \n",
              "\n",
              "[5 rows x 21 columns]"
            ]
          },
          "metadata": {
            "tags": []
          },
          "execution_count": 11
        }
      ]
    },
    {
      "metadata": {
        "id": "XL3m_EXjAX8g",
        "colab_type": "code",
        "outputId": "81d2db11-ad40-4e8a-c43d-750f63050c3b",
        "colab": {
          "base_uri": "https://localhost:8080/",
          "height": 493
        }
      },
      "cell_type": "code",
      "source": [
        "print(df.shape)\n",
        "print(df.info())"
      ],
      "execution_count": 0,
      "outputs": [
        {
          "output_type": "stream",
          "text": [
            "(23547, 21)\n",
            "<class 'pandas.core.frame.DataFrame'>\n",
            "RangeIndex: 23547 entries, 0 to 23546\n",
            "Data columns (total 21 columns):\n",
            "Suburb           23547 non-null object\n",
            "Address          23547 non-null object\n",
            "Rooms            23547 non-null int64\n",
            "Type             23547 non-null object\n",
            "Price            18396 non-null float64\n",
            "Method           23547 non-null object\n",
            "SellerG          23547 non-null object\n",
            "Date             23547 non-null object\n",
            "Distance         23546 non-null float64\n",
            "Postcode         23546 non-null float64\n",
            "Bedroom2         19066 non-null float64\n",
            "Bathroom         19063 non-null float64\n",
            "Car              18921 non-null float64\n",
            "Landsize         17410 non-null float64\n",
            "BuildingArea     10018 non-null float64\n",
            "YearBuilt        11540 non-null float64\n",
            "CouncilArea      15656 non-null object\n",
            "Lattitude        19243 non-null float64\n",
            "Longtitude       19243 non-null float64\n",
            "Regionname       23546 non-null object\n",
            "Propertycount    23546 non-null float64\n",
            "dtypes: float64(12), int64(1), object(8)\n",
            "memory usage: 3.8+ MB\n",
            "None\n"
          ],
          "name": "stdout"
        }
      ]
    },
    {
      "metadata": {
        "id": "_bko9D5IAuQf",
        "colab_type": "code",
        "outputId": "789aab31-8a01-4e90-8766-29be13574876",
        "colab": {
          "base_uri": "https://localhost:8080/",
          "height": 391
        }
      },
      "cell_type": "code",
      "source": [
        "df.isnull()\n",
        "\n",
        "# summing up the missing values (column-wise)\n",
        "df.isnull().sum()\n",
        "\n",
        "# columns having at least one missing value\n",
        "df.isnull().any()\n",
        "\n",
        "# above is equivalent to axis=0 (by default, any() operates on columns)\n",
        "df.isnull().any(axis=0) #axis=0 => column-wise, axis=1 => row-wise"
      ],
      "execution_count": 0,
      "outputs": [
        {
          "output_type": "execute_result",
          "data": {
            "text/plain": [
              "Suburb           False\n",
              "Address          False\n",
              "Rooms            False\n",
              "Type             False\n",
              "Price             True\n",
              "Method           False\n",
              "SellerG          False\n",
              "Date             False\n",
              "Distance          True\n",
              "Postcode          True\n",
              "Bedroom2          True\n",
              "Bathroom          True\n",
              "Car               True\n",
              "Landsize          True\n",
              "BuildingArea      True\n",
              "YearBuilt         True\n",
              "CouncilArea       True\n",
              "Lattitude         True\n",
              "Longtitude        True\n",
              "Regionname        True\n",
              "Propertycount     True\n",
              "dtype: bool"
            ]
          },
          "metadata": {
            "tags": []
          },
          "execution_count": 16
        }
      ]
    },
    {
      "metadata": {
        "id": "YTAq95NWDxIG",
        "colab_type": "code",
        "outputId": "9f96bf09-28c8-4933-8a0b-ffecd2d6a679",
        "colab": {
          "base_uri": "https://localhost:8080/",
          "height": 1071
        }
      },
      "cell_type": "code",
      "source": [
        "# check if rows which have all values missing\n",
        "df.isnull().all(axis=1)\n",
        "df.isnull().all(axis=1).sum() # 0 => There are no rows with all column values missing\n",
        "\n",
        "# sum of missing values in each row\n",
        "df.isnull().sum(axis=1)"
      ],
      "execution_count": 0,
      "outputs": [
        {
          "output_type": "execute_result",
          "data": {
            "text/plain": [
              "0        3\n",
              "1        2\n",
              "2        0\n",
              "3        3\n",
              "4        0\n",
              "5        2\n",
              "6        0\n",
              "7        1\n",
              "8        2\n",
              "9        2\n",
              "10       2\n",
              "11       0\n",
              "12       1\n",
              "13       1\n",
              "14       0\n",
              "15       9\n",
              "16       9\n",
              "17       2\n",
              "18       0\n",
              "19       9\n",
              "20       1\n",
              "21       9\n",
              "22       9\n",
              "23       2\n",
              "24       0\n",
              "25       0\n",
              "26       7\n",
              "27       9\n",
              "28       2\n",
              "29       2\n",
              "        ..\n",
              "23517    2\n",
              "23518    3\n",
              "23519    3\n",
              "23520    2\n",
              "23521    1\n",
              "23522    4\n",
              "23523    3\n",
              "23524    3\n",
              "23525    1\n",
              "23526    2\n",
              "23527    1\n",
              "23528    5\n",
              "23529    4\n",
              "23530    5\n",
              "23531    9\n",
              "23532    1\n",
              "23533    5\n",
              "23534    2\n",
              "23535    3\n",
              "23536    4\n",
              "23537    2\n",
              "23538    1\n",
              "23539    2\n",
              "23540    2\n",
              "23541    1\n",
              "23542    2\n",
              "23543    8\n",
              "23544    4\n",
              "23545    1\n",
              "23546    2\n",
              "Length: 23547, dtype: int64"
            ]
          },
          "metadata": {
            "tags": []
          },
          "execution_count": 19
        }
      ]
    },
    {
      "metadata": {
        "id": "m9msE3Y1EoiG",
        "colab_type": "text"
      },
      "cell_type": "markdown",
      "source": [
        "## Treat missing values\n",
        "\n",
        "\n",
        "1.   Do nothing if algorithm doesn't complaing about missing values\n",
        "2.   Delete them\n",
        "3.   Replace with value such as Mean, median, mode, etc. \n",
        "\n"
      ]
    },
    {
      "metadata": {
        "id": "BRYPB4nmErZm",
        "colab_type": "code",
        "outputId": "7537b134-7920-4359-ea41-497ea5cd8b66",
        "colab": {
          "base_uri": "https://localhost:8080/",
          "height": 391
        }
      },
      "cell_type": "code",
      "source": [
        "# Summing up the missing values (column-wise) %\n",
        "round(100*(df.isnull().sum()/len(df.index)),2)"
      ],
      "execution_count": 0,
      "outputs": [
        {
          "output_type": "execute_result",
          "data": {
            "text/plain": [
              "Suburb            0.00\n",
              "Address           0.00\n",
              "Rooms             0.00\n",
              "Type              0.00\n",
              "Price            21.88\n",
              "Method            0.00\n",
              "SellerG           0.00\n",
              "Date              0.00\n",
              "Distance          0.00\n",
              "Postcode          0.00\n",
              "Bedroom2         19.03\n",
              "Bathroom         19.04\n",
              "Car              19.65\n",
              "Landsize         26.06\n",
              "BuildingArea     57.46\n",
              "YearBuilt        50.99\n",
              "CouncilArea      33.51\n",
              "Lattitude        18.28\n",
              "Longtitude       18.28\n",
              "Regionname        0.00\n",
              "Propertycount     0.00\n",
              "dtype: float64"
            ]
          },
          "metadata": {
            "tags": []
          },
          "execution_count": 20
        }
      ]
    },
    {
      "metadata": {
        "id": "YMFXSE9TF-Lu",
        "colab_type": "code",
        "colab": {}
      },
      "cell_type": "code",
      "source": [
        "# remove columns with more than 30% missing values\n",
        "df = df.drop('BuildingArea', axis=1)\n",
        "df = df.drop('YearBuilt', axis=1)\n",
        "df = df.drop('CouncilArea', axis=1)\n"
      ],
      "execution_count": 0,
      "outputs": []
    },
    {
      "metadata": {
        "id": "wLz6GJBzGX4m",
        "colab_type": "code",
        "outputId": "e8d69dd0-c030-4382-b3e1-6ad678e4cab4",
        "colab": {
          "base_uri": "https://localhost:8080/",
          "height": 340
        }
      },
      "cell_type": "code",
      "source": [
        " # Summing up the missing values (column-wise) %\n",
        "round(100*(df.isnull().sum()/len(df.index)),2)"
      ],
      "execution_count": 0,
      "outputs": [
        {
          "output_type": "execute_result",
          "data": {
            "text/plain": [
              "Suburb            0.00\n",
              "Address           0.00\n",
              "Rooms             0.00\n",
              "Type              0.00\n",
              "Price            21.88\n",
              "Method            0.00\n",
              "SellerG           0.00\n",
              "Date              0.00\n",
              "Distance          0.00\n",
              "Postcode          0.00\n",
              "Bedroom2         19.03\n",
              "Bathroom         19.04\n",
              "Car              19.65\n",
              "Landsize         26.06\n",
              "Lattitude        18.28\n",
              "Longtitude       18.28\n",
              "Regionname        0.00\n",
              "Propertycount     0.00\n",
              "dtype: float64"
            ]
          },
          "metadata": {
            "tags": []
          },
          "execution_count": 22
        }
      ]
    },
    {
      "metadata": {
        "id": "pNZsJRJ7NaU-",
        "colab_type": "code",
        "outputId": "b43aa1f8-bc18-4ec8-99d5-6d0c9ff13d8d",
        "colab": {
          "base_uri": "https://localhost:8080/",
          "height": 34
        }
      },
      "cell_type": "code",
      "source": [
        "# check rows with more than 5 missing values\n",
        "df[df.isnull().sum(axis=1) > 5]\n",
        "len(df[df.isnull().sum(axis=1) > 5].index)\n",
        "100*(len(df[df.isnull().sum(axis=1) > 5].index)/len(df.index))"
      ],
      "execution_count": 0,
      "outputs": [
        {
          "output_type": "execute_result",
          "data": {
            "text/plain": [
              "18.16791948018856"
            ]
          },
          "metadata": {
            "tags": []
          },
          "execution_count": 25
        }
      ]
    },
    {
      "metadata": {
        "id": "nOasxSiyOBx1",
        "colab_type": "code",
        "outputId": "db0ac2db-23d3-42a2-f7bd-d4617ac0b7af",
        "colab": {
          "base_uri": "https://localhost:8080/",
          "height": 340
        }
      },
      "cell_type": "code",
      "source": [
        "# remove rows with more than 5 missing values\n",
        "df = df[df.isnull().sum(axis=1) <= 5]\n",
        "\n",
        " # Summing up the missing values (column-wise) %\n",
        "round(100*(df.isnull().sum()/len(df.index)),2)"
      ],
      "execution_count": 0,
      "outputs": [
        {
          "output_type": "execute_result",
          "data": {
            "text/plain": [
              "Suburb            0.00\n",
              "Address           0.00\n",
              "Rooms             0.00\n",
              "Type              0.00\n",
              "Price            21.71\n",
              "Method            0.00\n",
              "SellerG           0.00\n",
              "Date              0.00\n",
              "Distance          0.00\n",
              "Postcode          0.00\n",
              "Bedroom2          1.05\n",
              "Bathroom          1.07\n",
              "Car               1.81\n",
              "Landsize          9.65\n",
              "Lattitude         0.13\n",
              "Longtitude        0.13\n",
              "Regionname        0.00\n",
              "Propertycount     0.00\n",
              "dtype: float64"
            ]
          },
          "metadata": {
            "tags": []
          },
          "execution_count": 26
        }
      ]
    },
    {
      "metadata": {
        "id": "wqg7WVkyOkEl",
        "colab_type": "code",
        "outputId": "c5fbdd43-e68d-43e7-a2ff-96800940263c",
        "colab": {
          "base_uri": "https://localhost:8080/",
          "height": 340
        }
      },
      "cell_type": "code",
      "source": [
        "# remove rows with Price null\n",
        "df = df[~np.isnan(df['Price'])]\n",
        "\n",
        " # Summing up the missing values (column-wise) %\n",
        "round(100*(df.isnull().sum()/len(df.index)),2)"
      ],
      "execution_count": 0,
      "outputs": [
        {
          "output_type": "execute_result",
          "data": {
            "text/plain": [
              "Suburb           0.00\n",
              "Address          0.00\n",
              "Rooms            0.00\n",
              "Type             0.00\n",
              "Price            0.00\n",
              "Method           0.00\n",
              "SellerG          0.00\n",
              "Date             0.00\n",
              "Distance         0.00\n",
              "Postcode         0.00\n",
              "Bedroom2         1.05\n",
              "Bathroom         1.07\n",
              "Car              1.76\n",
              "Landsize         9.83\n",
              "Lattitude        0.15\n",
              "Longtitude       0.15\n",
              "Regionname       0.00\n",
              "Propertycount    0.00\n",
              "dtype: float64"
            ]
          },
          "metadata": {
            "tags": []
          },
          "execution_count": 27
        }
      ]
    },
    {
      "metadata": {
        "id": "VJiBgT3XPOLV",
        "colab_type": "code",
        "outputId": "928a66b3-a629-45e7-de67-6b005ac0a48a",
        "colab": {
          "base_uri": "https://localhost:8080/",
          "height": 170
        }
      },
      "cell_type": "code",
      "source": [
        "# check Landsize column and try to impute values for this column\n",
        "df['Landsize'].describe()"
      ],
      "execution_count": 0,
      "outputs": [
        {
          "output_type": "execute_result",
          "data": {
            "text/plain": [
              "count     13603.000000\n",
              "mean        558.116371\n",
              "std        3987.326586\n",
              "min           0.000000\n",
              "25%         176.500000\n",
              "50%         440.000000\n",
              "75%         651.000000\n",
              "max      433014.000000\n",
              "Name: Landsize, dtype: float64"
            ]
          },
          "metadata": {
            "tags": []
          },
          "execution_count": 28
        }
      ]
    },
    {
      "metadata": {
        "id": "2HAKxzmUPZ29",
        "colab_type": "text"
      },
      "cell_type": "markdown",
      "source": [
        "Notice that min is 0, max is 433014, the mean is 558, median (50%) is 440. There's a significant variation in the 25th and 75th percentile as well. (176 to 651)\n",
        "\n",
        "Thus imputing this with mean/median seems quite biased, and so we should remove the NaNs."
      ]
    },
    {
      "metadata": {
        "id": "6ft4wsxpPWmV",
        "colab_type": "code",
        "outputId": "dcb45e7e-a1ab-4023-cb95-6b13c4e1162c",
        "colab": {
          "base_uri": "https://localhost:8080/",
          "height": 340
        }
      },
      "cell_type": "code",
      "source": [
        "# removing NaNs in Landsize\n",
        "df = df[~np.isnan(df['Landsize'])]\n",
        "\n",
        " # Summing up the missing values (column-wise) %\n",
        "round(100*(df.isnull().sum()/len(df.index)),2)"
      ],
      "execution_count": 0,
      "outputs": [
        {
          "output_type": "execute_result",
          "data": {
            "text/plain": [
              "Suburb           0.00\n",
              "Address          0.00\n",
              "Rooms            0.00\n",
              "Type             0.00\n",
              "Price            0.00\n",
              "Method           0.00\n",
              "SellerG          0.00\n",
              "Date             0.00\n",
              "Distance         0.00\n",
              "Postcode         0.00\n",
              "Bedroom2         0.00\n",
              "Bathroom         0.01\n",
              "Car              0.46\n",
              "Landsize         0.00\n",
              "Lattitude        0.16\n",
              "Longtitude       0.16\n",
              "Regionname       0.00\n",
              "Propertycount    0.00\n",
              "dtype: float64"
            ]
          },
          "metadata": {
            "tags": []
          },
          "execution_count": 29
        }
      ]
    },
    {
      "metadata": {
        "id": "pvnBbCdhQbpW",
        "colab_type": "text"
      },
      "cell_type": "markdown",
      "source": [
        "There's still marginal data with missing values. Bathroom, Car, Latitude, Longitude. Let's first look at Latitude and Longitude"
      ]
    },
    {
      "metadata": {
        "id": "AtXhurXNQbFV",
        "colab_type": "code",
        "outputId": "ccd77bb9-c748-4510-b23e-8ef588a673ac",
        "colab": {
          "base_uri": "https://localhost:8080/",
          "height": 1479
        }
      },
      "cell_type": "code",
      "source": [
        "# rows with missing Latitude, Longitude\n",
        "df[np.isnan(df['Lattitude'])]"
      ],
      "execution_count": 0,
      "outputs": [
        {
          "output_type": "execute_result",
          "data": {
            "text/html": [
              "<div>\n",
              "<style scoped>\n",
              "    .dataframe tbody tr th:only-of-type {\n",
              "        vertical-align: middle;\n",
              "    }\n",
              "\n",
              "    .dataframe tbody tr th {\n",
              "        vertical-align: top;\n",
              "    }\n",
              "\n",
              "    .dataframe thead th {\n",
              "        text-align: right;\n",
              "    }\n",
              "</style>\n",
              "<table border=\"1\" class=\"dataframe\">\n",
              "  <thead>\n",
              "    <tr style=\"text-align: right;\">\n",
              "      <th></th>\n",
              "      <th>Suburb</th>\n",
              "      <th>Address</th>\n",
              "      <th>Rooms</th>\n",
              "      <th>Type</th>\n",
              "      <th>Price</th>\n",
              "      <th>Method</th>\n",
              "      <th>SellerG</th>\n",
              "      <th>Date</th>\n",
              "      <th>Distance</th>\n",
              "      <th>Postcode</th>\n",
              "      <th>Bedroom2</th>\n",
              "      <th>Bathroom</th>\n",
              "      <th>Car</th>\n",
              "      <th>Landsize</th>\n",
              "      <th>Lattitude</th>\n",
              "      <th>Longtitude</th>\n",
              "      <th>Regionname</th>\n",
              "      <th>Propertycount</th>\n",
              "    </tr>\n",
              "  </thead>\n",
              "  <tbody>\n",
              "    <tr>\n",
              "      <th>2572</th>\n",
              "      <td>Burwood</td>\n",
              "      <td>23 Monica St</td>\n",
              "      <td>3</td>\n",
              "      <td>h</td>\n",
              "      <td>990000.0</td>\n",
              "      <td>VB</td>\n",
              "      <td>Fletchers</td>\n",
              "      <td>17-09-2016</td>\n",
              "      <td>11.7</td>\n",
              "      <td>3125.0</td>\n",
              "      <td>3.0</td>\n",
              "      <td>2.0</td>\n",
              "      <td>2.0</td>\n",
              "      <td>263.0</td>\n",
              "      <td>NaN</td>\n",
              "      <td>NaN</td>\n",
              "      <td>Southern Metropolitan</td>\n",
              "      <td>5678.0</td>\n",
              "    </tr>\n",
              "    <tr>\n",
              "      <th>3257</th>\n",
              "      <td>Clifton Hill</td>\n",
              "      <td>3/268 Alexandra Pde E</td>\n",
              "      <td>1</td>\n",
              "      <td>u</td>\n",
              "      <td>363000.0</td>\n",
              "      <td>S</td>\n",
              "      <td>hockingstuart</td>\n",
              "      <td>27-06-2016</td>\n",
              "      <td>3.4</td>\n",
              "      <td>3068.0</td>\n",
              "      <td>1.0</td>\n",
              "      <td>1.0</td>\n",
              "      <td>1.0</td>\n",
              "      <td>0.0</td>\n",
              "      <td>NaN</td>\n",
              "      <td>NaN</td>\n",
              "      <td>Northern Metropolitan</td>\n",
              "      <td>2954.0</td>\n",
              "    </tr>\n",
              "    <tr>\n",
              "      <th>4485</th>\n",
              "      <td>Footscray</td>\n",
              "      <td>483 Barkly St</td>\n",
              "      <td>3</td>\n",
              "      <td>t</td>\n",
              "      <td>781000.0</td>\n",
              "      <td>S</td>\n",
              "      <td>Jas</td>\n",
              "      <td>27-11-2016</td>\n",
              "      <td>6.4</td>\n",
              "      <td>3011.0</td>\n",
              "      <td>3.0</td>\n",
              "      <td>2.0</td>\n",
              "      <td>2.0</td>\n",
              "      <td>98.0</td>\n",
              "      <td>NaN</td>\n",
              "      <td>NaN</td>\n",
              "      <td>Western Metropolitan</td>\n",
              "      <td>7570.0</td>\n",
              "    </tr>\n",
              "    <tr>\n",
              "      <th>5170</th>\n",
              "      <td>Hampton East</td>\n",
              "      <td>7 Seafoam St</td>\n",
              "      <td>4</td>\n",
              "      <td>t</td>\n",
              "      <td>1185000.0</td>\n",
              "      <td>S</td>\n",
              "      <td>RT</td>\n",
              "      <td>28-05-2016</td>\n",
              "      <td>14.5</td>\n",
              "      <td>3188.0</td>\n",
              "      <td>4.0</td>\n",
              "      <td>3.0</td>\n",
              "      <td>1.0</td>\n",
              "      <td>300.0</td>\n",
              "      <td>NaN</td>\n",
              "      <td>NaN</td>\n",
              "      <td>Southern Metropolitan</td>\n",
              "      <td>2356.0</td>\n",
              "    </tr>\n",
              "    <tr>\n",
              "      <th>10745</th>\n",
              "      <td>Williamstown North</td>\n",
              "      <td>4/9 Adeline St</td>\n",
              "      <td>1</td>\n",
              "      <td>u</td>\n",
              "      <td>355000.0</td>\n",
              "      <td>S</td>\n",
              "      <td>Sweeney</td>\n",
              "      <td>27-11-2016</td>\n",
              "      <td>8.9</td>\n",
              "      <td>3016.0</td>\n",
              "      <td>1.0</td>\n",
              "      <td>1.0</td>\n",
              "      <td>1.0</td>\n",
              "      <td>46.0</td>\n",
              "      <td>NaN</td>\n",
              "      <td>NaN</td>\n",
              "      <td>Western Metropolitan</td>\n",
              "      <td>802.0</td>\n",
              "    </tr>\n",
              "    <tr>\n",
              "      <th>13223</th>\n",
              "      <td>Melbourne</td>\n",
              "      <td>1913/228 Abeckett St</td>\n",
              "      <td>3</td>\n",
              "      <td>u</td>\n",
              "      <td>1175000.0</td>\n",
              "      <td>PI</td>\n",
              "      <td>Icon</td>\n",
              "      <td>29-04-2017</td>\n",
              "      <td>2.8</td>\n",
              "      <td>3000.0</td>\n",
              "      <td>3.0</td>\n",
              "      <td>3.0</td>\n",
              "      <td>2.0</td>\n",
              "      <td>0.0</td>\n",
              "      <td>NaN</td>\n",
              "      <td>NaN</td>\n",
              "      <td>Northern Metropolitan</td>\n",
              "      <td>17496.0</td>\n",
              "    </tr>\n",
              "    <tr>\n",
              "      <th>14008</th>\n",
              "      <td>Brooklyn</td>\n",
              "      <td>9 Richards Ct</td>\n",
              "      <td>3</td>\n",
              "      <td>h</td>\n",
              "      <td>750000.0</td>\n",
              "      <td>S</td>\n",
              "      <td>hockingstuart</td>\n",
              "      <td>20-05-2017</td>\n",
              "      <td>10.9</td>\n",
              "      <td>3012.0</td>\n",
              "      <td>3.0</td>\n",
              "      <td>1.0</td>\n",
              "      <td>2.0</td>\n",
              "      <td>667.0</td>\n",
              "      <td>NaN</td>\n",
              "      <td>NaN</td>\n",
              "      <td>Western Metropolitan</td>\n",
              "      <td>962.0</td>\n",
              "    </tr>\n",
              "    <tr>\n",
              "      <th>14132</th>\n",
              "      <td>North Melbourne</td>\n",
              "      <td>13/201 Abbotsford St</td>\n",
              "      <td>2</td>\n",
              "      <td>t</td>\n",
              "      <td>755000.0</td>\n",
              "      <td>PI</td>\n",
              "      <td>Nelson</td>\n",
              "      <td>29-04-2017</td>\n",
              "      <td>2.3</td>\n",
              "      <td>3051.0</td>\n",
              "      <td>2.0</td>\n",
              "      <td>1.0</td>\n",
              "      <td>1.0</td>\n",
              "      <td>1537.0</td>\n",
              "      <td>NaN</td>\n",
              "      <td>NaN</td>\n",
              "      <td>Northern Metropolitan</td>\n",
              "      <td>6821.0</td>\n",
              "    </tr>\n",
              "    <tr>\n",
              "      <th>14139</th>\n",
              "      <td>Oakleigh South</td>\n",
              "      <td>4 Druitt St</td>\n",
              "      <td>4</td>\n",
              "      <td>h</td>\n",
              "      <td>1205500.0</td>\n",
              "      <td>S</td>\n",
              "      <td>Woodards</td>\n",
              "      <td>22-04-2017</td>\n",
              "      <td>14.7</td>\n",
              "      <td>3167.0</td>\n",
              "      <td>4.0</td>\n",
              "      <td>2.0</td>\n",
              "      <td>2.0</td>\n",
              "      <td>553.0</td>\n",
              "      <td>NaN</td>\n",
              "      <td>NaN</td>\n",
              "      <td>South-Eastern Metropolitan</td>\n",
              "      <td>3692.0</td>\n",
              "    </tr>\n",
              "    <tr>\n",
              "      <th>14142</th>\n",
              "      <td>Oakleigh South</td>\n",
              "      <td>298 Warrigal Rd</td>\n",
              "      <td>3</td>\n",
              "      <td>h</td>\n",
              "      <td>799999.0</td>\n",
              "      <td>S</td>\n",
              "      <td>Woodards</td>\n",
              "      <td>29-04-2017</td>\n",
              "      <td>14.7</td>\n",
              "      <td>3167.0</td>\n",
              "      <td>3.0</td>\n",
              "      <td>2.0</td>\n",
              "      <td>4.0</td>\n",
              "      <td>590.0</td>\n",
              "      <td>NaN</td>\n",
              "      <td>NaN</td>\n",
              "      <td>South-Eastern Metropolitan</td>\n",
              "      <td>3692.0</td>\n",
              "    </tr>\n",
              "    <tr>\n",
              "      <th>14143</th>\n",
              "      <td>Oakleigh South</td>\n",
              "      <td>11 Yarra Ct</td>\n",
              "      <td>5</td>\n",
              "      <td>h</td>\n",
              "      <td>1200000.0</td>\n",
              "      <td>PI</td>\n",
              "      <td>Buxton</td>\n",
              "      <td>29-04-2017</td>\n",
              "      <td>14.7</td>\n",
              "      <td>3167.0</td>\n",
              "      <td>5.0</td>\n",
              "      <td>2.0</td>\n",
              "      <td>2.0</td>\n",
              "      <td>532.0</td>\n",
              "      <td>NaN</td>\n",
              "      <td>NaN</td>\n",
              "      <td>South-Eastern Metropolitan</td>\n",
              "      <td>3692.0</td>\n",
              "    </tr>\n",
              "    <tr>\n",
              "      <th>14976</th>\n",
              "      <td>Essendon</td>\n",
              "      <td>9 Washington St</td>\n",
              "      <td>3</td>\n",
              "      <td>h</td>\n",
              "      <td>1520000.0</td>\n",
              "      <td>S</td>\n",
              "      <td>Brad</td>\n",
              "      <td>03-06-2017</td>\n",
              "      <td>7.5</td>\n",
              "      <td>3040.0</td>\n",
              "      <td>3.0</td>\n",
              "      <td>2.0</td>\n",
              "      <td>1.0</td>\n",
              "      <td>321.0</td>\n",
              "      <td>NaN</td>\n",
              "      <td>NaN</td>\n",
              "      <td>Western Metropolitan</td>\n",
              "      <td>9264.0</td>\n",
              "    </tr>\n",
              "    <tr>\n",
              "      <th>15278</th>\n",
              "      <td>Seddon</td>\n",
              "      <td>60 Station Rd</td>\n",
              "      <td>4</td>\n",
              "      <td>h</td>\n",
              "      <td>1500000.0</td>\n",
              "      <td>SP</td>\n",
              "      <td>Sweeney</td>\n",
              "      <td>03-06-2017</td>\n",
              "      <td>5.1</td>\n",
              "      <td>3011.0</td>\n",
              "      <td>4.0</td>\n",
              "      <td>3.0</td>\n",
              "      <td>2.0</td>\n",
              "      <td>169.0</td>\n",
              "      <td>NaN</td>\n",
              "      <td>NaN</td>\n",
              "      <td>Western Metropolitan</td>\n",
              "      <td>2417.0</td>\n",
              "    </tr>\n",
              "    <tr>\n",
              "      <th>15561</th>\n",
              "      <td>Croydon</td>\n",
              "      <td>3 Silvergrass Ct</td>\n",
              "      <td>3</td>\n",
              "      <td>h</td>\n",
              "      <td>630000.0</td>\n",
              "      <td>S</td>\n",
              "      <td>McGrath</td>\n",
              "      <td>17-06-2017</td>\n",
              "      <td>23.0</td>\n",
              "      <td>3136.0</td>\n",
              "      <td>3.0</td>\n",
              "      <td>2.0</td>\n",
              "      <td>2.0</td>\n",
              "      <td>319.0</td>\n",
              "      <td>NaN</td>\n",
              "      <td>NaN</td>\n",
              "      <td>Eastern Metropolitan</td>\n",
              "      <td>11925.0</td>\n",
              "    </tr>\n",
              "    <tr>\n",
              "      <th>16358</th>\n",
              "      <td>Kensington</td>\n",
              "      <td>201/102 Rankins Rd</td>\n",
              "      <td>2</td>\n",
              "      <td>u</td>\n",
              "      <td>876000.0</td>\n",
              "      <td>S</td>\n",
              "      <td>Rendina</td>\n",
              "      <td>24-06-2017</td>\n",
              "      <td>3.4</td>\n",
              "      <td>3031.0</td>\n",
              "      <td>2.0</td>\n",
              "      <td>2.0</td>\n",
              "      <td>2.0</td>\n",
              "      <td>0.0</td>\n",
              "      <td>NaN</td>\n",
              "      <td>NaN</td>\n",
              "      <td>Northern Metropolitan</td>\n",
              "      <td>5263.0</td>\n",
              "    </tr>\n",
              "    <tr>\n",
              "      <th>16564</th>\n",
              "      <td>Strathmore</td>\n",
              "      <td>48 Lebanon St</td>\n",
              "      <td>3</td>\n",
              "      <td>h</td>\n",
              "      <td>950000.0</td>\n",
              "      <td>PI</td>\n",
              "      <td>Considine</td>\n",
              "      <td>24-06-2017</td>\n",
              "      <td>8.2</td>\n",
              "      <td>3041.0</td>\n",
              "      <td>3.0</td>\n",
              "      <td>2.0</td>\n",
              "      <td>2.0</td>\n",
              "      <td>216.0</td>\n",
              "      <td>NaN</td>\n",
              "      <td>NaN</td>\n",
              "      <td>Western Metropolitan</td>\n",
              "      <td>3284.0</td>\n",
              "    </tr>\n",
              "    <tr>\n",
              "      <th>17616</th>\n",
              "      <td>Kensington</td>\n",
              "      <td>109/102 Rankins Rd</td>\n",
              "      <td>1</td>\n",
              "      <td>u</td>\n",
              "      <td>410000.0</td>\n",
              "      <td>PI</td>\n",
              "      <td>Rendina</td>\n",
              "      <td>08-07-2017</td>\n",
              "      <td>3.4</td>\n",
              "      <td>3031.0</td>\n",
              "      <td>1.0</td>\n",
              "      <td>1.0</td>\n",
              "      <td>1.0</td>\n",
              "      <td>1053.0</td>\n",
              "      <td>NaN</td>\n",
              "      <td>NaN</td>\n",
              "      <td>Northern Metropolitan</td>\n",
              "      <td>5263.0</td>\n",
              "    </tr>\n",
              "    <tr>\n",
              "      <th>17620</th>\n",
              "      <td>Keysborough</td>\n",
              "      <td>19 Denmark Rd</td>\n",
              "      <td>5</td>\n",
              "      <td>h</td>\n",
              "      <td>1100000.0</td>\n",
              "      <td>PI</td>\n",
              "      <td>VicHomes</td>\n",
              "      <td>08-07-2017</td>\n",
              "      <td>25.2</td>\n",
              "      <td>3173.0</td>\n",
              "      <td>5.0</td>\n",
              "      <td>3.0</td>\n",
              "      <td>2.0</td>\n",
              "      <td>522.0</td>\n",
              "      <td>NaN</td>\n",
              "      <td>NaN</td>\n",
              "      <td>South-Eastern Metropolitan</td>\n",
              "      <td>8459.0</td>\n",
              "    </tr>\n",
              "    <tr>\n",
              "      <th>18141</th>\n",
              "      <td>Lalor</td>\n",
              "      <td>83 Rotino Cr</td>\n",
              "      <td>3</td>\n",
              "      <td>t</td>\n",
              "      <td>463000.0</td>\n",
              "      <td>S</td>\n",
              "      <td>HAR</td>\n",
              "      <td>12-08-2017</td>\n",
              "      <td>16.3</td>\n",
              "      <td>3075.0</td>\n",
              "      <td>3.0</td>\n",
              "      <td>2.0</td>\n",
              "      <td>2.0</td>\n",
              "      <td>114.0</td>\n",
              "      <td>NaN</td>\n",
              "      <td>NaN</td>\n",
              "      <td>Northern Metropolitan</td>\n",
              "      <td>8279.0</td>\n",
              "    </tr>\n",
              "    <tr>\n",
              "      <th>18614</th>\n",
              "      <td>Mickleham</td>\n",
              "      <td>17 Primavera Dr</td>\n",
              "      <td>4</td>\n",
              "      <td>h</td>\n",
              "      <td>610000.0</td>\n",
              "      <td>S</td>\n",
              "      <td>Ray</td>\n",
              "      <td>15-07-2017</td>\n",
              "      <td>20.6</td>\n",
              "      <td>3064.0</td>\n",
              "      <td>4.0</td>\n",
              "      <td>2.0</td>\n",
              "      <td>2.0</td>\n",
              "      <td>490.0</td>\n",
              "      <td>NaN</td>\n",
              "      <td>NaN</td>\n",
              "      <td>Northern Metropolitan</td>\n",
              "      <td>1158.0</td>\n",
              "    </tr>\n",
              "    <tr>\n",
              "      <th>18793</th>\n",
              "      <td>Wollert</td>\n",
              "      <td>13 Strathalbyn Ch</td>\n",
              "      <td>4</td>\n",
              "      <td>h</td>\n",
              "      <td>631000.0</td>\n",
              "      <td>PI</td>\n",
              "      <td>hockingstuart</td>\n",
              "      <td>15-07-2017</td>\n",
              "      <td>25.5</td>\n",
              "      <td>3750.0</td>\n",
              "      <td>4.0</td>\n",
              "      <td>2.0</td>\n",
              "      <td>2.0</td>\n",
              "      <td>400.0</td>\n",
              "      <td>NaN</td>\n",
              "      <td>NaN</td>\n",
              "      <td>Northern Metropolitan</td>\n",
              "      <td>2940.0</td>\n",
              "    </tr>\n",
              "    <tr>\n",
              "      <th>18995</th>\n",
              "      <td>Greenvale</td>\n",
              "      <td>40 Frontier Av</td>\n",
              "      <td>3</td>\n",
              "      <td>t</td>\n",
              "      <td>470000.0</td>\n",
              "      <td>SP</td>\n",
              "      <td>Barry</td>\n",
              "      <td>22-07-2017</td>\n",
              "      <td>20.4</td>\n",
              "      <td>3059.0</td>\n",
              "      <td>3.0</td>\n",
              "      <td>2.0</td>\n",
              "      <td>2.0</td>\n",
              "      <td>201.0</td>\n",
              "      <td>NaN</td>\n",
              "      <td>NaN</td>\n",
              "      <td>Northern Metropolitan</td>\n",
              "      <td>4864.0</td>\n",
              "    </tr>\n",
              "  </tbody>\n",
              "</table>\n",
              "</div>"
            ],
            "text/plain": [
              "                   Suburb                Address  Rooms Type      Price  \\\n",
              "2572              Burwood           23 Monica St      3    h   990000.0   \n",
              "3257         Clifton Hill  3/268 Alexandra Pde E      1    u   363000.0   \n",
              "4485            Footscray          483 Barkly St      3    t   781000.0   \n",
              "5170         Hampton East           7 Seafoam St      4    t  1185000.0   \n",
              "10745  Williamstown North         4/9 Adeline St      1    u   355000.0   \n",
              "13223           Melbourne   1913/228 Abeckett St      3    u  1175000.0   \n",
              "14008            Brooklyn          9 Richards Ct      3    h   750000.0   \n",
              "14132     North Melbourne   13/201 Abbotsford St      2    t   755000.0   \n",
              "14139      Oakleigh South            4 Druitt St      4    h  1205500.0   \n",
              "14142      Oakleigh South        298 Warrigal Rd      3    h   799999.0   \n",
              "14143      Oakleigh South            11 Yarra Ct      5    h  1200000.0   \n",
              "14976            Essendon        9 Washington St      3    h  1520000.0   \n",
              "15278              Seddon          60 Station Rd      4    h  1500000.0   \n",
              "15561             Croydon       3 Silvergrass Ct      3    h   630000.0   \n",
              "16358          Kensington     201/102 Rankins Rd      2    u   876000.0   \n",
              "16564          Strathmore          48 Lebanon St      3    h   950000.0   \n",
              "17616          Kensington     109/102 Rankins Rd      1    u   410000.0   \n",
              "17620         Keysborough          19 Denmark Rd      5    h  1100000.0   \n",
              "18141               Lalor           83 Rotino Cr      3    t   463000.0   \n",
              "18614           Mickleham        17 Primavera Dr      4    h   610000.0   \n",
              "18793             Wollert      13 Strathalbyn Ch      4    h   631000.0   \n",
              "18995           Greenvale         40 Frontier Av      3    t   470000.0   \n",
              "\n",
              "      Method        SellerG        Date  Distance  Postcode  Bedroom2  \\\n",
              "2572      VB      Fletchers  17-09-2016      11.7    3125.0       3.0   \n",
              "3257       S  hockingstuart  27-06-2016       3.4    3068.0       1.0   \n",
              "4485       S            Jas  27-11-2016       6.4    3011.0       3.0   \n",
              "5170       S             RT  28-05-2016      14.5    3188.0       4.0   \n",
              "10745      S        Sweeney  27-11-2016       8.9    3016.0       1.0   \n",
              "13223     PI           Icon  29-04-2017       2.8    3000.0       3.0   \n",
              "14008      S  hockingstuart  20-05-2017      10.9    3012.0       3.0   \n",
              "14132     PI         Nelson  29-04-2017       2.3    3051.0       2.0   \n",
              "14139      S       Woodards  22-04-2017      14.7    3167.0       4.0   \n",
              "14142      S       Woodards  29-04-2017      14.7    3167.0       3.0   \n",
              "14143     PI         Buxton  29-04-2017      14.7    3167.0       5.0   \n",
              "14976      S           Brad  03-06-2017       7.5    3040.0       3.0   \n",
              "15278     SP        Sweeney  03-06-2017       5.1    3011.0       4.0   \n",
              "15561      S        McGrath  17-06-2017      23.0    3136.0       3.0   \n",
              "16358      S        Rendina  24-06-2017       3.4    3031.0       2.0   \n",
              "16564     PI      Considine  24-06-2017       8.2    3041.0       3.0   \n",
              "17616     PI        Rendina  08-07-2017       3.4    3031.0       1.0   \n",
              "17620     PI       VicHomes  08-07-2017      25.2    3173.0       5.0   \n",
              "18141      S            HAR  12-08-2017      16.3    3075.0       3.0   \n",
              "18614      S            Ray  15-07-2017      20.6    3064.0       4.0   \n",
              "18793     PI  hockingstuart  15-07-2017      25.5    3750.0       4.0   \n",
              "18995     SP          Barry  22-07-2017      20.4    3059.0       3.0   \n",
              "\n",
              "       Bathroom  Car  Landsize  Lattitude  Longtitude  \\\n",
              "2572        2.0  2.0     263.0        NaN         NaN   \n",
              "3257        1.0  1.0       0.0        NaN         NaN   \n",
              "4485        2.0  2.0      98.0        NaN         NaN   \n",
              "5170        3.0  1.0     300.0        NaN         NaN   \n",
              "10745       1.0  1.0      46.0        NaN         NaN   \n",
              "13223       3.0  2.0       0.0        NaN         NaN   \n",
              "14008       1.0  2.0     667.0        NaN         NaN   \n",
              "14132       1.0  1.0    1537.0        NaN         NaN   \n",
              "14139       2.0  2.0     553.0        NaN         NaN   \n",
              "14142       2.0  4.0     590.0        NaN         NaN   \n",
              "14143       2.0  2.0     532.0        NaN         NaN   \n",
              "14976       2.0  1.0     321.0        NaN         NaN   \n",
              "15278       3.0  2.0     169.0        NaN         NaN   \n",
              "15561       2.0  2.0     319.0        NaN         NaN   \n",
              "16358       2.0  2.0       0.0        NaN         NaN   \n",
              "16564       2.0  2.0     216.0        NaN         NaN   \n",
              "17616       1.0  1.0    1053.0        NaN         NaN   \n",
              "17620       3.0  2.0     522.0        NaN         NaN   \n",
              "18141       2.0  2.0     114.0        NaN         NaN   \n",
              "18614       2.0  2.0     490.0        NaN         NaN   \n",
              "18793       2.0  2.0     400.0        NaN         NaN   \n",
              "18995       2.0  2.0     201.0        NaN         NaN   \n",
              "\n",
              "                       Regionname  Propertycount  \n",
              "2572        Southern Metropolitan         5678.0  \n",
              "3257        Northern Metropolitan         2954.0  \n",
              "4485         Western Metropolitan         7570.0  \n",
              "5170        Southern Metropolitan         2356.0  \n",
              "10745        Western Metropolitan          802.0  \n",
              "13223       Northern Metropolitan        17496.0  \n",
              "14008        Western Metropolitan          962.0  \n",
              "14132       Northern Metropolitan         6821.0  \n",
              "14139  South-Eastern Metropolitan         3692.0  \n",
              "14142  South-Eastern Metropolitan         3692.0  \n",
              "14143  South-Eastern Metropolitan         3692.0  \n",
              "14976        Western Metropolitan         9264.0  \n",
              "15278        Western Metropolitan         2417.0  \n",
              "15561        Eastern Metropolitan        11925.0  \n",
              "16358       Northern Metropolitan         5263.0  \n",
              "16564        Western Metropolitan         3284.0  \n",
              "17616       Northern Metropolitan         5263.0  \n",
              "17620  South-Eastern Metropolitan         8459.0  \n",
              "18141       Northern Metropolitan         8279.0  \n",
              "18614       Northern Metropolitan         1158.0  \n",
              "18793       Northern Metropolitan         2940.0  \n",
              "18995       Northern Metropolitan         4864.0  "
            ]
          },
          "metadata": {
            "tags": []
          },
          "execution_count": 32
        }
      ]
    },
    {
      "metadata": {
        "id": "_YyWZKUhQ8er",
        "colab_type": "code",
        "outputId": "ff20ab60-c00e-4684-a0c4-6b6962775817",
        "colab": {
          "base_uri": "https://localhost:8080/",
          "height": 297
        }
      },
      "cell_type": "code",
      "source": [
        "# Let's look at the summary stats of Latitude/Longitude columns\n",
        "df.loc[:,['Lattitude','Longtitude']].describe()"
      ],
      "execution_count": 0,
      "outputs": [
        {
          "output_type": "execute_result",
          "data": {
            "text/html": [
              "<div>\n",
              "<style scoped>\n",
              "    .dataframe tbody tr th:only-of-type {\n",
              "        vertical-align: middle;\n",
              "    }\n",
              "\n",
              "    .dataframe tbody tr th {\n",
              "        vertical-align: top;\n",
              "    }\n",
              "\n",
              "    .dataframe thead th {\n",
              "        text-align: right;\n",
              "    }\n",
              "</style>\n",
              "<table border=\"1\" class=\"dataframe\">\n",
              "  <thead>\n",
              "    <tr style=\"text-align: right;\">\n",
              "      <th></th>\n",
              "      <th>Lattitude</th>\n",
              "      <th>Longtitude</th>\n",
              "    </tr>\n",
              "  </thead>\n",
              "  <tbody>\n",
              "    <tr>\n",
              "      <th>count</th>\n",
              "      <td>13581.000000</td>\n",
              "      <td>13581.000000</td>\n",
              "    </tr>\n",
              "    <tr>\n",
              "      <th>mean</th>\n",
              "      <td>-37.809204</td>\n",
              "      <td>144.995221</td>\n",
              "    </tr>\n",
              "    <tr>\n",
              "      <th>std</th>\n",
              "      <td>0.079257</td>\n",
              "      <td>0.103913</td>\n",
              "    </tr>\n",
              "    <tr>\n",
              "      <th>min</th>\n",
              "      <td>-38.182550</td>\n",
              "      <td>144.431810</td>\n",
              "    </tr>\n",
              "    <tr>\n",
              "      <th>25%</th>\n",
              "      <td>-37.856820</td>\n",
              "      <td>144.929600</td>\n",
              "    </tr>\n",
              "    <tr>\n",
              "      <th>50%</th>\n",
              "      <td>-37.802360</td>\n",
              "      <td>145.000100</td>\n",
              "    </tr>\n",
              "    <tr>\n",
              "      <th>75%</th>\n",
              "      <td>-37.756400</td>\n",
              "      <td>145.058320</td>\n",
              "    </tr>\n",
              "    <tr>\n",
              "      <th>max</th>\n",
              "      <td>-37.408530</td>\n",
              "      <td>145.526350</td>\n",
              "    </tr>\n",
              "  </tbody>\n",
              "</table>\n",
              "</div>"
            ],
            "text/plain": [
              "          Lattitude    Longtitude\n",
              "count  13581.000000  13581.000000\n",
              "mean     -37.809204    144.995221\n",
              "std        0.079257      0.103913\n",
              "min      -38.182550    144.431810\n",
              "25%      -37.856820    144.929600\n",
              "50%      -37.802360    145.000100\n",
              "75%      -37.756400    145.058320\n",
              "max      -37.408530    145.526350"
            ]
          },
          "metadata": {
            "tags": []
          },
          "execution_count": 34
        }
      ]
    },
    {
      "metadata": {
        "id": "Rdq3wrPGRhMN",
        "colab_type": "text"
      },
      "cell_type": "markdown",
      "source": [
        "Since, Std deviation is very small, we can impute these missing values with mean of corresponding columns. "
      ]
    },
    {
      "metadata": {
        "id": "DOL82AveRo6V",
        "colab_type": "code",
        "outputId": "0d8e4aed-c38f-4cac-bca5-fbc5eac97be6",
        "colab": {
          "base_uri": "https://localhost:8080/",
          "height": 340
        }
      },
      "cell_type": "code",
      "source": [
        "# imputing Lattitude and Longtitude by mean values\n",
        "df.loc[np.isnan(df['Lattitude']), ['Lattitude']] = df['Lattitude'].mean()\n",
        "df.loc[np.isnan(df['Longtitude']), ['Longtitude']] = df['Longtitude'].mean()\n",
        "\n",
        " # Summing up the missing values (column-wise) %\n",
        "round(100*(df.isnull().sum()/len(df.index)),2)"
      ],
      "execution_count": 0,
      "outputs": [
        {
          "output_type": "execute_result",
          "data": {
            "text/plain": [
              "Suburb           0.00\n",
              "Address          0.00\n",
              "Rooms            0.00\n",
              "Type             0.00\n",
              "Price            0.00\n",
              "Method           0.00\n",
              "SellerG          0.00\n",
              "Date             0.00\n",
              "Distance         0.00\n",
              "Postcode         0.00\n",
              "Bedroom2         0.00\n",
              "Bathroom         0.01\n",
              "Car              0.46\n",
              "Landsize         0.00\n",
              "Lattitude        0.00\n",
              "Longtitude       0.00\n",
              "Regionname       0.00\n",
              "Propertycount    0.00\n",
              "dtype: float64"
            ]
          },
          "metadata": {
            "tags": []
          },
          "execution_count": 35
        }
      ]
    },
    {
      "metadata": {
        "id": "OP4w6KU7SJGE",
        "colab_type": "text"
      },
      "cell_type": "markdown",
      "source": [
        "We have Bathroom, Car have missing values with 0.01% and 0.46%. Let's look at the statistics"
      ]
    },
    {
      "metadata": {
        "id": "ZsxwWinJSSfI",
        "colab_type": "code",
        "outputId": "85d82037-da33-4138-e18f-b7e9b6701002",
        "colab": {
          "base_uri": "https://localhost:8080/",
          "height": 297
        }
      },
      "cell_type": "code",
      "source": [
        "df.loc[:, ['Bathroom','Car']].describe()"
      ],
      "execution_count": 0,
      "outputs": [
        {
          "output_type": "execute_result",
          "data": {
            "text/html": [
              "<div>\n",
              "<style scoped>\n",
              "    .dataframe tbody tr th:only-of-type {\n",
              "        vertical-align: middle;\n",
              "    }\n",
              "\n",
              "    .dataframe tbody tr th {\n",
              "        vertical-align: top;\n",
              "    }\n",
              "\n",
              "    .dataframe thead th {\n",
              "        text-align: right;\n",
              "    }\n",
              "</style>\n",
              "<table border=\"1\" class=\"dataframe\">\n",
              "  <thead>\n",
              "    <tr style=\"text-align: right;\">\n",
              "      <th></th>\n",
              "      <th>Bathroom</th>\n",
              "      <th>Car</th>\n",
              "    </tr>\n",
              "  </thead>\n",
              "  <tbody>\n",
              "    <tr>\n",
              "      <th>count</th>\n",
              "      <td>13602.000000</td>\n",
              "      <td>13540.000000</td>\n",
              "    </tr>\n",
              "    <tr>\n",
              "      <th>mean</th>\n",
              "      <td>1.534921</td>\n",
              "      <td>1.610414</td>\n",
              "    </tr>\n",
              "    <tr>\n",
              "      <th>std</th>\n",
              "      <td>0.691834</td>\n",
              "      <td>0.962244</td>\n",
              "    </tr>\n",
              "    <tr>\n",
              "      <th>min</th>\n",
              "      <td>0.000000</td>\n",
              "      <td>0.000000</td>\n",
              "    </tr>\n",
              "    <tr>\n",
              "      <th>25%</th>\n",
              "      <td>1.000000</td>\n",
              "      <td>1.000000</td>\n",
              "    </tr>\n",
              "    <tr>\n",
              "      <th>50%</th>\n",
              "      <td>1.000000</td>\n",
              "      <td>2.000000</td>\n",
              "    </tr>\n",
              "    <tr>\n",
              "      <th>75%</th>\n",
              "      <td>2.000000</td>\n",
              "      <td>2.000000</td>\n",
              "    </tr>\n",
              "    <tr>\n",
              "      <th>max</th>\n",
              "      <td>8.000000</td>\n",
              "      <td>10.000000</td>\n",
              "    </tr>\n",
              "  </tbody>\n",
              "</table>\n",
              "</div>"
            ],
            "text/plain": [
              "           Bathroom           Car\n",
              "count  13602.000000  13540.000000\n",
              "mean       1.534921      1.610414\n",
              "std        0.691834      0.962244\n",
              "min        0.000000      0.000000\n",
              "25%        1.000000      1.000000\n",
              "50%        1.000000      2.000000\n",
              "75%        2.000000      2.000000\n",
              "max        8.000000     10.000000"
            ]
          },
          "metadata": {
            "tags": []
          },
          "execution_count": 36
        }
      ]
    },
    {
      "metadata": {
        "id": "KLJdW1DlSmVp",
        "colab_type": "text"
      },
      "cell_type": "markdown",
      "source": [
        "These 2 are integer type variables and thus have values 0, 1, 2, etc. You cannot impute the NaNs by mean or median. Thus, you need to impute them by the mode - the most common occuring value"
      ]
    },
    {
      "metadata": {
        "id": "jec_FYBoS0Ps",
        "colab_type": "code",
        "outputId": "a2c411b4-63b7-48ac-af75-d65e7bce70b8",
        "colab": {
          "base_uri": "https://localhost:8080/",
          "height": 221
        }
      },
      "cell_type": "code",
      "source": [
        "# converting to type'category\n",
        "df['Car']  = df['Car'].astype('category')\n",
        "\n",
        "# displaying frequencies of each category\n",
        "df['Car'].value_counts()"
      ],
      "execution_count": 0,
      "outputs": [
        {
          "output_type": "execute_result",
          "data": {
            "text/plain": [
              "2.0     5606\n",
              "1.0     5515\n",
              "0.0     1026\n",
              "3.0      748\n",
              "4.0      507\n",
              "5.0       63\n",
              "6.0       54\n",
              "8.0        9\n",
              "7.0        8\n",
              "10.0       3\n",
              "9.0        1\n",
              "Name: Car, dtype: int64"
            ]
          },
          "metadata": {
            "tags": []
          },
          "execution_count": 37
        }
      ]
    },
    {
      "metadata": {
        "id": "6I4pzsszTGI7",
        "colab_type": "code",
        "outputId": "68dd39cc-c675-4437-f69b-e6c879dc0935",
        "colab": {
          "base_uri": "https://localhost:8080/",
          "height": 340
        }
      },
      "cell_type": "code",
      "source": [
        "# the most common occuring is 2, so let's impute NaNs by that. \n",
        "\n",
        "#imputing NaNs by 2.0\n",
        "df.loc[pd.isnull(df['Car']), ['Car']] = 2\n",
        "\n",
        " # Summing up the missing values (column-wise) %\n",
        "round(100*(df.isnull().sum()/len(df.index)),2)"
      ],
      "execution_count": 0,
      "outputs": [
        {
          "output_type": "execute_result",
          "data": {
            "text/plain": [
              "Suburb           0.00\n",
              "Address          0.00\n",
              "Rooms            0.00\n",
              "Type             0.00\n",
              "Price            0.00\n",
              "Method           0.00\n",
              "SellerG          0.00\n",
              "Date             0.00\n",
              "Distance         0.00\n",
              "Postcode         0.00\n",
              "Bedroom2         0.00\n",
              "Bathroom         0.01\n",
              "Car              0.00\n",
              "Landsize         0.00\n",
              "Lattitude        0.00\n",
              "Longtitude       0.00\n",
              "Regionname       0.00\n",
              "Propertycount    0.00\n",
              "dtype: float64"
            ]
          },
          "metadata": {
            "tags": []
          },
          "execution_count": 41
        }
      ]
    },
    {
      "metadata": {
        "id": "UYi0OwBXTtRJ",
        "colab_type": "code",
        "outputId": "5a98e897-51c4-4dbc-a9ba-a44c35591e2c",
        "colab": {
          "base_uri": "https://localhost:8080/",
          "height": 187
        }
      },
      "cell_type": "code",
      "source": [
        "# Similar to Bathroom\n",
        "\n",
        "df['Bathroom'] = df['Bathroom'].astype('category')\n",
        "\n",
        "df['Bathroom'].value_counts()"
      ],
      "execution_count": 0,
      "outputs": [
        {
          "output_type": "execute_result",
          "data": {
            "text/plain": [
              "1.0    7517\n",
              "2.0    4987\n",
              "3.0     921\n",
              "4.0     106\n",
              "0.0      34\n",
              "5.0      28\n",
              "6.0       5\n",
              "8.0       2\n",
              "7.0       2\n",
              "Name: Bathroom, dtype: int64"
            ]
          },
          "metadata": {
            "tags": []
          },
          "execution_count": 42
        }
      ]
    },
    {
      "metadata": {
        "id": "K6MdstUaT850",
        "colab_type": "code",
        "outputId": "c8bd821b-ecfd-4b5d-a1c7-e0911e9484d8",
        "colab": {
          "base_uri": "https://localhost:8080/",
          "height": 340
        }
      },
      "cell_type": "code",
      "source": [
        "df.loc[pd.isnull(df['Bathroom']),['Bathroom']] = 1\n",
        "\n",
        " # Summing up the missing values (column-wise) %\n",
        "round(100*(df.isnull().sum()/len(df.index)),2)"
      ],
      "execution_count": 0,
      "outputs": [
        {
          "output_type": "execute_result",
          "data": {
            "text/plain": [
              "Suburb           0.0\n",
              "Address          0.0\n",
              "Rooms            0.0\n",
              "Type             0.0\n",
              "Price            0.0\n",
              "Method           0.0\n",
              "SellerG          0.0\n",
              "Date             0.0\n",
              "Distance         0.0\n",
              "Postcode         0.0\n",
              "Bedroom2         0.0\n",
              "Bathroom         0.0\n",
              "Car              0.0\n",
              "Landsize         0.0\n",
              "Lattitude        0.0\n",
              "Longtitude       0.0\n",
              "Regionname       0.0\n",
              "Propertycount    0.0\n",
              "dtype: float64"
            ]
          },
          "metadata": {
            "tags": []
          },
          "execution_count": 43
        }
      ]
    },
    {
      "metadata": {
        "id": "Ph2RM98aULrI",
        "colab_type": "text"
      },
      "cell_type": "markdown",
      "source": [
        "There are no missing values now. Let's finally look at how many rows (apart from 3 columns) we have lost in the process(originally we had 23547):"
      ]
    },
    {
      "metadata": {
        "id": "_VfoM57ZUbyT",
        "colab_type": "code",
        "outputId": "ff5f2c19-a084-46ec-ee8e-d4b16f2c2bcb",
        "colab": {
          "base_uri": "https://localhost:8080/",
          "height": 34
        }
      },
      "cell_type": "code",
      "source": [
        "df.shape"
      ],
      "execution_count": 0,
      "outputs": [
        {
          "output_type": "execute_result",
          "data": {
            "text/plain": [
              "(13603, 18)"
            ]
          },
          "metadata": {
            "tags": []
          },
          "execution_count": 44
        }
      ]
    },
    {
      "metadata": {
        "id": "mBMFIEmZUeFm",
        "colab_type": "code",
        "outputId": "dc927af5-32b2-47c0-8c2a-cb674fb73a8a",
        "colab": {
          "base_uri": "https://localhost:8080/",
          "height": 34
        }
      },
      "cell_type": "code",
      "source": [
        "100 * (len(df.index)/23547)"
      ],
      "execution_count": 0,
      "outputs": [
        {
          "output_type": "execute_result",
          "data": {
            "text/plain": [
              "57.769567248481756"
            ]
          },
          "metadata": {
            "tags": []
          },
          "execution_count": 45
        }
      ]
    },
    {
      "metadata": {
        "id": "gH4FuBQWUkRB",
        "colab_type": "text"
      },
      "cell_type": "markdown",
      "source": [
        "Thus we have lost about 42% of observations in cleaning the missing values. "
      ]
    }
  ]
}