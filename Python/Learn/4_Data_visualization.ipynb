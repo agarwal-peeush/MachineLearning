{
  "nbformat": 4,
  "nbformat_minor": 0,
  "metadata": {
    "colab": {
      "name": "4. Data visualization.ipynb",
      "version": "0.3.2",
      "provenance": [],
      "private_outputs": true,
      "toc_visible": true,
      "include_colab_link": true
    },
    "kernelspec": {
      "name": "python3",
      "display_name": "Python 3"
    }
  },
  "cells": [
    {
      "cell_type": "markdown",
      "metadata": {
        "id": "view-in-github",
        "colab_type": "text"
      },
      "source": [
        "<a href=\"https://colab.research.google.com/github/agarwal-peeush/MachineLearning/blob/master/Python/Learn/4_Data_visualization.ipynb\" target=\"_parent\"><img src=\"https://colab.research.google.com/assets/colab-badge.svg\" alt=\"Open In Colab\"/></a>"
      ]
    },
    {
      "metadata": {
        "id": "C13JSWYGPuuL",
        "colab_type": "text"
      },
      "cell_type": "markdown",
      "source": [
        "# Basic plotting, axes labels and titles - matplotlib library\n"
      ]
    },
    {
      "metadata": {
        "id": "Q2lV1_QmPk5u",
        "colab_type": "code",
        "colab": {}
      },
      "cell_type": "code",
      "source": [
        "import numpy as np\n",
        "import pandas as pd\n",
        "import matplotlib.pyplot as plt"
      ],
      "execution_count": 0,
      "outputs": []
    },
    {
      "metadata": {
        "id": "8DMYjA6SP6_r",
        "colab_type": "code",
        "colab": {}
      },
      "cell_type": "code",
      "source": [
        "# plotting 2 1-D numpy arrays\n",
        "x = np.linspace(5,100,100)\n",
        "y = np.linspace(10,1000,100)\n",
        "\n",
        "plt.plot(x,y)"
      ],
      "execution_count": 0,
      "outputs": []
    },
    {
      "metadata": {
        "id": "_zJQounNQMVb",
        "colab_type": "code",
        "colab": {}
      },
      "cell_type": "code",
      "source": [
        "# can also work with lists, though it converts lists to np arrays internally\n",
        "plt.plot([1,4,6,8],[3,8,3,5])"
      ],
      "execution_count": 0,
      "outputs": []
    },
    {
      "metadata": {
        "id": "hEegSYsvQqzi",
        "colab_type": "code",
        "colab": {}
      },
      "cell_type": "code",
      "source": [
        "plt.plot(x,y)\n",
        "\n",
        "# x and y labels and title\n",
        "plt.xlabel('Current')\n",
        "plt.ylabel('Voltage')\n",
        "plt.title(\"Ohm's law\")\n",
        "\n",
        "# Define range of labels of the axis\n",
        "# arguments: plt.axis(xmin, xmax, ymin, ymax)\n",
        "plt.xlim([20,80])\n",
        "plt.ylim([200,800])\n",
        "plt.show()"
      ],
      "execution_count": 0,
      "outputs": []
    },
    {
      "metadata": {
        "id": "ZQibgJLPSFYy",
        "colab_type": "code",
        "colab": {}
      },
      "cell_type": "code",
      "source": [
        "help(plt.plot)"
      ],
      "execution_count": 0,
      "outputs": []
    },
    {
      "metadata": {
        "id": "Ym47qbV3RYV6",
        "colab_type": "code",
        "colab": {}
      },
      "cell_type": "code",
      "source": [
        "# Change colors, line type\n",
        "\n",
        "x = np.linspace(0,10, 20)\n",
        "y = x*2\n",
        "\n",
        "# color blue, line type '+'\n",
        "plt.plot(x,y,'bo')\n",
        "plt.xlabel('Current')\n",
        "plt.ylabel('Voltage')\n",
        "plt.title(\"Ohm's law\")\n",
        "\n",
        "plt.show()"
      ],
      "execution_count": 0,
      "outputs": []
    },
    {
      "metadata": {
        "id": "1OqWGc3dSvNb",
        "colab_type": "code",
        "colab": {}
      },
      "cell_type": "code",
      "source": [
        "# Plotting multiple lines on the same plot\n",
        "\n",
        "x = np.linspace(0,5,10)\n",
        "y = np.linspace(3,6,10)\n",
        "\n",
        "# Plot three curves: y, y**2, y**3 with different line types\n",
        "plt.plot(x,y,'r-',x,y**2,'b-.',x,y**3,'g^')\n",
        "plt.show()"
      ],
      "execution_count": 0,
      "outputs": []
    },
    {
      "metadata": {
        "id": "6k03RKuaUK9z",
        "colab_type": "text"
      },
      "cell_type": "markdown",
      "source": [
        "## Subplots"
      ]
    },
    {
      "metadata": {
        "id": "Cc2EEmvOUlMa",
        "colab_type": "code",
        "colab": {}
      },
      "cell_type": "code",
      "source": [
        "x = np.linspace(1,10,100)\n",
        "y=np.log(x)\n",
        "\n",
        "# Initiate  a new figure explicitly\n",
        "plt.figure(1)\n",
        "\n",
        "# Create a subplot with 1 row, 2 columns\n",
        "\n",
        "# Create the first subplot in figure 1\n",
        "plt.subplot(121) # Equivalent to plt.subplot(1,2,1) => 1 row, 2 columns, 1st figure\n",
        "plt.title('y=log(x)')\n",
        "plt.plot(x,y)\n",
        "\n",
        "# Create the second subplot in figure 2\n",
        "plt.subplot(122)\n",
        "plt.title('y=log(x)**2')\n",
        "plt.plot(x,y**2)\n",
        "\n",
        "plt.show()"
      ],
      "execution_count": 0,
      "outputs": []
    },
    {
      "metadata": {
        "id": "uwM7V0QRVknz",
        "colab_type": "code",
        "colab": {}
      },
      "cell_type": "code",
      "source": [
        "# Create a figure having 4 subplots\n",
        "\n",
        "# optional command, since matplotlib creates a figure by default anyway\n",
        "plt.figure(1)\n",
        "\n",
        "# Subplot 1\n",
        "plt.subplot(221)\n",
        "plt.title('Linear')\n",
        "plt.plot(x,x)\n",
        "\n",
        "# Subplot 2\n",
        "plt.subplot(222)\n",
        "plt.title(\"Squared\")\n",
        "plt.plot(x,x**2)\n",
        "\n",
        "# Subplot 3\n",
        "plt.subplot(223)\n",
        "plt.title('log')\n",
        "plt.plot(x,np.log(x))\n",
        "\n",
        "# subplot 4\n",
        "plt.subplot(224)\n",
        "plt.title('Cubic')\n",
        "plt.plot(x,x**3)\n",
        "\n",
        "plt.show()"
      ],
      "execution_count": 0,
      "outputs": []
    },
    {
      "metadata": {
        "id": "mb2ofWjBX7SU",
        "colab_type": "text"
      },
      "cell_type": "markdown",
      "source": [
        "## Common types of plots to show statistical data"
      ]
    },
    {
      "metadata": {
        "id": "xErGsGiVYBsi",
        "colab_type": "code",
        "colab": {}
      },
      "cell_type": "code",
      "source": [
        "# Load data from global_sales_data.market_fact.csv\n",
        "\n",
        "df = pd.read_csv('/content/gdrive/My Drive/Colab Notebooks/Datasets/global_sales_data/market_fact.csv')\n",
        "df.head()"
      ],
      "execution_count": 0,
      "outputs": []
    },
    {
      "metadata": {
        "id": "KHRyGOhIYU3U",
        "colab_type": "text"
      },
      "cell_type": "markdown",
      "source": [
        "### 1. Boxplot\n",
        "Displays the spread of data. Used to visualise the variance in the data, as well as to find information on what proportion of the data is above and below the median value."
      ]
    },
    {
      "metadata": {
        "id": "ag27VvYCYUJy",
        "colab_type": "code",
        "colab": {}
      },
      "cell_type": "code",
      "source": [
        "# Boxplot: Visualise the distribution of a continuous variable\n",
        "plt.boxplot(df['Order_Quantity'],sym='ro')\n",
        "plt.show()"
      ],
      "execution_count": 0,
      "outputs": []
    },
    {
      "metadata": {
        "id": "LY2WEJOjYzPK",
        "colab_type": "code",
        "colab": {}
      },
      "cell_type": "code",
      "source": [
        "# Boxplot of Sales is quite unreadable, since Sales varies across a wide range\n",
        "plt.boxplot(df['Sales'],sym='ro')\n",
        "plt.show()\n",
        "print(df['Sales'].describe())"
      ],
      "execution_count": 0,
      "outputs": []
    },
    {
      "metadata": {
        "id": "cBiB_TWGZm5q",
        "colab_type": "code",
        "colab": {}
      },
      "cell_type": "code",
      "source": [
        "# Solution to above plot: use log scale for y-axis\n",
        "plt.subplot(121)\n",
        "plt.boxplot(df['Sales'],sym='ro')\n",
        "\n",
        "plt.subplot(122)\n",
        "plt.boxplot(df['Sales'],sym='ro')\n",
        "plt.yscale('log')\n",
        "plt.show()"
      ],
      "execution_count": 0,
      "outputs": []
    },
    {
      "metadata": {
        "id": "gAcqcb8xag-J",
        "colab_type": "text"
      },
      "cell_type": "markdown",
      "source": [
        "### 2. Histogram\n",
        "Displays the frequency distribution of a single variable. Used to see what fraction of data is around which values"
      ]
    },
    {
      "metadata": {
        "id": "J0qVquYyalpT",
        "colab_type": "code",
        "colab": {}
      },
      "cell_type": "code",
      "source": [
        "# Histogram: Useful for visualising distribution of single variables\n",
        "\n",
        "plt.hist(df['Sales'])\n",
        "plt.show()"
      ],
      "execution_count": 0,
      "outputs": []
    },
    {
      "metadata": {
        "id": "8zhU-viTavqy",
        "colab_type": "code",
        "colab": {}
      },
      "cell_type": "code",
      "source": [
        "# Histograms can be make more readable by using log scale\n",
        "\n",
        "plt.hist(df['Sales'])\n",
        "plt.yscale('log')\n",
        "plt.show()"
      ],
      "execution_count": 0,
      "outputs": []
    },
    {
      "metadata": {
        "id": "DvAiV3yhbAxx",
        "colab_type": "text"
      },
      "cell_type": "markdown",
      "source": [
        "### 3. Scatter plots\n",
        "Displays the scatter of the data. Used to detect outliers. Points to the naturally occuring clusters in the data. \n",
        "\n",
        "Visualise 2 variables, one on each axis"
      ]
    },
    {
      "metadata": {
        "id": "b7f-gmdMbI3Z",
        "colab_type": "code",
        "colab": {}
      },
      "cell_type": "code",
      "source": [
        "plt.scatter(df['Sales'],df['Profit'])\n",
        "plt.show()"
      ],
      "execution_count": 0,
      "outputs": []
    },
    {
      "metadata": {
        "id": "xYqCfwqxfGsR",
        "colab_type": "text"
      },
      "cell_type": "markdown",
      "source": [
        "# Visualising Distributions of data - Seaborn library"
      ]
    },
    {
      "metadata": {
        "id": "-BWKdDdXfb6p",
        "colab_type": "text"
      },
      "cell_type": "markdown",
      "source": [
        "## 1. Visualising Univariate Distributions"
      ]
    },
    {
      "metadata": {
        "id": "ec6ftpYqfUsp",
        "colab_type": "code",
        "colab": {}
      },
      "cell_type": "code",
      "source": [
        "import numpy as np\n",
        "import pandas as pd\n",
        "import matplotlib.pyplot as plt\n",
        "\n",
        "# The commonly used alias for seaborn is sns\n",
        "import seaborn as sns\n",
        "\n",
        "# Set a seaborn style of your taste\n",
        "sns.set_style(\"whitegrid\")\n",
        "\n",
        "# data\n",
        "df = pd.read_csv('/content/gdrive/My Drive/Colab Notebooks/Datasets/global_sales_data/market_fact.csv')"
      ],
      "execution_count": 0,
      "outputs": []
    },
    {
      "metadata": {
        "id": "dlMOLtiafPmh",
        "colab_type": "text"
      },
      "cell_type": "markdown",
      "source": [
        "### Histograms and density plots\n",
        "These plots give you detailed information on the spectrum of values that your data spread across. "
      ]
    },
    {
      "metadata": {
        "id": "PDxkQGEygB0Z",
        "colab_type": "code",
        "colab": {}
      },
      "cell_type": "code",
      "source": [
        "# simple density plot\n",
        "sns.distplot(df['Shipping_Cost'])\n",
        "plt.show()"
      ],
      "execution_count": 0,
      "outputs": []
    },
    {
      "metadata": {
        "id": "Ur9xVvv4iXcp",
        "colab_type": "code",
        "colab": {}
      },
      "cell_type": "code",
      "source": [
        "# Rug plot\n",
        "sns.distplot(df['Shipping_Cost'][:200],rug=True)\n",
        "plt.show()"
      ],
      "execution_count": 0,
      "outputs": []
    },
    {
      "metadata": {
        "id": "7Qi5FyeSg_Lx",
        "colab_type": "code",
        "colab": {}
      },
      "cell_type": "code",
      "source": [
        "sns.distplot(df['Sales'], bins=50)\n",
        "plt.show()"
      ],
      "execution_count": 0,
      "outputs": []
    },
    {
      "metadata": {
        "id": "ObXc9a05h3W7",
        "colab_type": "code",
        "colab": {}
      },
      "cell_type": "code",
      "source": [
        "# Simple density plots without histogram bars\n",
        "sns.distplot(df['Sales'],hist=False)\n",
        "plt.show()"
      ],
      "execution_count": 0,
      "outputs": []
    },
    {
      "metadata": {
        "id": "ACRw3oDvjEdx",
        "colab_type": "code",
        "colab": {}
      },
      "cell_type": "code",
      "source": [
        "# Subplots\n",
        "\n",
        "plt.subplot(221)\n",
        "plt.title('Sales')\n",
        "sns.distplot(df['Sales'])\n",
        "\n",
        "plt.subplot(222)\n",
        "plt.title('Profit')\n",
        "sns.distplot(df['Profit'])\n",
        "\n",
        "plt.subplot(223)\n",
        "plt.title('Order quantity')\n",
        "sns.distplot(df['Order_Quantity'])\n",
        "\n",
        "plt.subplot(224)\n",
        "plt.title('Shipping Cost')\n",
        "sns.distplot(df['Shipping_Cost'])\n",
        "\n",
        "plt.show()"
      ],
      "execution_count": 0,
      "outputs": []
    },
    {
      "metadata": {
        "id": "LQQHf7vqkcUI",
        "colab_type": "code",
        "colab": {}
      },
      "cell_type": "code",
      "source": [
        "sns.distplot(df['Sales'][:1000], rug=True)\n",
        "plt.show()"
      ],
      "execution_count": 0,
      "outputs": []
    },
    {
      "metadata": {
        "id": "cVoDPqqejvRh",
        "colab_type": "text"
      },
      "cell_type": "markdown",
      "source": [
        "### 2. Boxplot"
      ]
    },
    {
      "metadata": {
        "id": "0yYIC7qQjx8Q",
        "colab_type": "code",
        "colab": {}
      },
      "cell_type": "code",
      "source": [
        "plt.subplot(121)\n",
        "\n",
        "sns.boxplot(df['Order_Quantity'])\n",
        "plt.title('Order quantity')\n",
        "\n",
        "plt.subplot(122)\n",
        "sns.boxplot(y=df['Order_Quantity'])\n",
        "plt.title('Order quantity')\n",
        "\n",
        "plt.show()"
      ],
      "execution_count": 0,
      "outputs": []
    },
    {
      "metadata": {
        "id": "7u5zV1Pukuyh",
        "colab_type": "text"
      },
      "cell_type": "markdown",
      "source": [
        "## 2. Visualising Bivariate Distributions"
      ]
    },
    {
      "metadata": {
        "id": "g9EsxUJgkzbb",
        "colab_type": "code",
        "colab": {}
      },
      "cell_type": "code",
      "source": [
        "# Joint plots of Sales and Profit\n",
        "sns.jointplot(df['Sales'],df['Profit'])\n",
        "# Equivalent to sns.jointplot('Sales','Profit', df)\n",
        "plt.show()"
      ],
      "execution_count": 0,
      "outputs": []
    },
    {
      "metadata": {
        "id": "3sp6XLpLlv5A",
        "colab_type": "code",
        "colab": {}
      },
      "cell_type": "code",
      "source": [
        "# remove point havng extreme values\n",
        "\n",
        "df_1 = df[(df.Profit < 10000) & (df.Sales < 20000)]\n",
        "\n",
        "sns.jointplot('Sales','Profit',df_1)\n",
        "plt.show()"
      ],
      "execution_count": 0,
      "outputs": []
    },
    {
      "metadata": {
        "id": "zsfPZXvamcmD",
        "colab_type": "code",
        "colab": {}
      },
      "cell_type": "code",
      "source": [
        "# another variant of jointplot\n",
        "df_2 = df[(df.Profit < 100) & (df.Profit > -100) & (df.Sales < 200)]\n",
        "sns.jointplot('Sales','Profit',df_2, kind='hex',color='k')\n",
        "plt.show()"
      ],
      "execution_count": 0,
      "outputs": []
    },
    {
      "metadata": {
        "id": "TWFEvt6fodm4",
        "colab_type": "code",
        "colab": {}
      },
      "cell_type": "code",
      "source": [
        "# Load crypto data\n",
        "# reading cryptocurrency files\n",
        "btc = pd.read_csv(\"/content/gdrive/My Drive/Colab Notebooks/Datasets/crypto_data/bitcoin_price.csv\")\n",
        "ether = pd.read_csv(\"/content/gdrive/My Drive/Colab Notebooks/Datasets/crypto_data/ethereum_price.csv\")\n",
        "ltc = pd.read_csv(\"/content/gdrive/My Drive/Colab Notebooks/Datasets/crypto_data/litecoin_price.csv\")\n",
        "monero = pd.read_csv(\"/content/gdrive/My Drive/Colab Notebooks/Datasets/crypto_data/monero_price.csv\")\n",
        "neo = pd.read_csv(\"/content/gdrive/My Drive/Colab Notebooks/Datasets/crypto_data/neo_price.csv\")\n",
        "quantum = pd.read_csv(\"/content/gdrive/My Drive/Colab Notebooks/Datasets/crypto_data/qtum_price.csv\")\n",
        "ripple = pd.read_csv(\"/content/gdrive/My Drive/Colab Notebooks/Datasets/crypto_data/ripple_price.csv\")\n",
        "\n",
        "# putting a suffix with column names so that joins are easy\n",
        "btc.columns = btc.columns.map(lambda x: str(x) + '_btc')\n",
        "ether.columns = ether.columns.map(lambda x: str(x) + '_et')\n",
        "ltc.columns = ltc.columns.map(lambda x: str(x) + '_ltc')\n",
        "monero.columns = monero.columns.map(lambda x: str(x) + '_mon')\n",
        "neo.columns = neo.columns.map(lambda x: str(x) + '_neo')\n",
        "quantum.columns = quantum.columns.map(lambda x: str(x) + '_qt')\n",
        "ripple.columns = ripple.columns.map(lambda x: str(x) + '_rip')\n",
        "\n",
        "btc.head()"
      ],
      "execution_count": 0,
      "outputs": []
    },
    {
      "metadata": {
        "id": "-D8_Y5M2osow",
        "colab_type": "code",
        "colab": {}
      },
      "cell_type": "code",
      "source": [
        "# merging all the files by date\n",
        "m1 = pd.merge(btc, ether, how=\"inner\", left_on=\"Date_btc\", right_on=\"Date_et\")\n",
        "m2 = pd.merge(m1, ltc, how=\"inner\", left_on=\"Date_btc\", right_on=\"Date_ltc\")\n",
        "m3 = pd.merge(m2, monero, how=\"inner\", left_on=\"Date_btc\", right_on=\"Date_mon\")\n",
        "m4 = pd.merge(m3, neo, how=\"inner\", left_on=\"Date_btc\", right_on=\"Date_neo\")\n",
        "m5 = pd.merge(m4, quantum, how=\"inner\", left_on=\"Date_btc\", right_on=\"Date_qt\")\n",
        "crypto = pd.merge(m5, ripple, how=\"inner\", left_on=\"Date_btc\", right_on=\"Date_rip\")\n",
        "\n",
        "crypto.head()"
      ],
      "execution_count": 0,
      "outputs": []
    },
    {
      "metadata": {
        "id": "yd1qMT-Vo6gY",
        "colab_type": "code",
        "colab": {}
      },
      "cell_type": "code",
      "source": [
        "# Subsetting only the closing prices column for plotting\n",
        "curr = crypto[[\"Close_btc\", \"Close_et\", 'Close_ltc', \"Close_mon\", \"Close_neo\", \"Close_qt\"]]\n",
        "curr.head()"
      ],
      "execution_count": 0,
      "outputs": []
    },
    {
      "metadata": {
        "id": "21sxy6oRnimC",
        "colab_type": "text"
      },
      "cell_type": "markdown",
      "source": [
        "### Pairwise scatter plots\n"
      ]
    },
    {
      "metadata": {
        "id": "bNajY75OnklY",
        "colab_type": "code",
        "colab": {}
      },
      "cell_type": "code",
      "source": [
        "# Pairwise scatter plots\n",
        "\n",
        "sns.pairplot(curr)\n",
        "plt.show()"
      ],
      "execution_count": 0,
      "outputs": []
    },
    {
      "metadata": {
        "id": "yivXjlxEp5DJ",
        "colab_type": "text"
      },
      "cell_type": "markdown",
      "source": [
        "### HeatMap"
      ]
    },
    {
      "metadata": {
        "id": "8RJRkcrvpjgg",
        "colab_type": "code",
        "colab": {}
      },
      "cell_type": "code",
      "source": [
        "# Observe correlation between the currencies using df.corr()\n",
        "cor = curr.corr()\n",
        "round(cor, 3)"
      ],
      "execution_count": 0,
      "outputs": []
    },
    {
      "metadata": {
        "id": "xpdHOmP1p8EP",
        "colab_type": "code",
        "colab": {}
      },
      "cell_type": "code",
      "source": [
        "# figure size\n",
        "plt.figure(figsize=(10,8))\n",
        "\n",
        "# heatmap - use colormap and annotations\n",
        "sns.heatmap(cor, cmap='YlGnBu', annot=True)\n",
        "plt.show()"
      ],
      "execution_count": 0,
      "outputs": []
    }
  ]
}