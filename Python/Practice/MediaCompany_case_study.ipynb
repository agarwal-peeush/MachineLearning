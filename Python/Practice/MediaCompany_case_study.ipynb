{
  "nbformat": 4,
  "nbformat_minor": 0,
  "metadata": {
    "colab": {
      "name": "MediaCompany_case_study.ipynb",
      "version": "0.3.2",
      "provenance": [],
      "private_outputs": true,
      "include_colab_link": true
    },
    "kernelspec": {
      "name": "python3",
      "display_name": "Python 3"
    }
  },
  "cells": [
    {
      "cell_type": "markdown",
      "metadata": {
        "id": "view-in-github",
        "colab_type": "text"
      },
      "source": [
        "<a href=\"https://colab.research.google.com/github/agarwal-peeush/MachineLearning/blob/master/Python/Practice/MediaCompany_case_study.ipynb\" target=\"_parent\"><img src=\"https://colab.research.google.com/assets/colab-badge.svg\" alt=\"Open In Colab\"/></a>"
      ]
    },
    {
      "metadata": {
        "id": "awaW866-KrnA",
        "colab_type": "text"
      },
      "cell_type": "markdown",
      "source": [
        "# Problem statement\n",
        "Media company wants to know important predictors behind the viewership for show. We've performed LinearRegression to predict the predictors for target variable. "
      ]
    },
    {
      "metadata": {
        "id": "41ASppFV8FHc",
        "colab_type": "code",
        "colab": {},
        "cellView": "form"
      },
      "cell_type": "code",
      "source": [
        "#@title\n",
        "from google.colab import files\n",
        "\n",
        "uploaded = files.upload()\n",
        "\n",
        "for fn in uploaded.keys():\n",
        "  print('User uploaded file \"{name}\" with length {length} bytes'.format(\n",
        "      name=fn, length=len(uploaded[fn])))"
      ],
      "execution_count": 0,
      "outputs": []
    },
    {
      "metadata": {
        "id": "BdWjAsDd8hlE",
        "colab_type": "code",
        "colab": {},
        "cellView": "form"
      },
      "cell_type": "code",
      "source": [
        "#@title\n",
        "for fn in uploaded.keys():\n",
        "  filename = fn\n",
        "  break\n",
        "\n",
        "print (filename)"
      ],
      "execution_count": 0,
      "outputs": []
    },
    {
      "metadata": {
        "id": "nfeqkWdXAHQc",
        "colab_type": "code",
        "colab": {}
      },
      "cell_type": "code",
      "source": [
        "# Import libraries\n",
        "import pandas as pd\n",
        "import numpy as np\n",
        "import matplotlib.pyplot as plt\n",
        "import seaborn as sns\n",
        "\n",
        "sns.set(style=\"white\")"
      ],
      "execution_count": 0,
      "outputs": []
    },
    {
      "metadata": {
        "id": "ONvreaTm8VQ0",
        "colab_type": "code",
        "colab": {}
      },
      "cell_type": "code",
      "source": [
        "media_df = pd.read_csv(filename)\n",
        "\n",
        "media_df = media_df.drop('Unnamed: 7', axis=1)\n",
        "media_df.head()"
      ],
      "execution_count": 0,
      "outputs": []
    },
    {
      "metadata": {
        "id": "5sXgSxK6_Ql8",
        "colab_type": "code",
        "colab": {}
      },
      "cell_type": "code",
      "source": [
        "media_df.describe()"
      ],
      "execution_count": 0,
      "outputs": []
    },
    {
      "metadata": {
        "id": "fvG29aIqAngU",
        "colab_type": "code",
        "colab": {}
      },
      "cell_type": "code",
      "source": [
        "media_df.info()"
      ],
      "execution_count": 0,
      "outputs": []
    },
    {
      "metadata": {
        "id": "jM7jTP3E_TxM",
        "colab_type": "code",
        "colab": {}
      },
      "cell_type": "code",
      "source": [
        "media_df.isnull().sum() #None missing values"
      ],
      "execution_count": 0,
      "outputs": []
    },
    {
      "metadata": {
        "id": "3usPn2bTAq6b",
        "colab_type": "code",
        "colab": {}
      },
      "cell_type": "code",
      "source": [
        "media_df['Date'] = pd.to_datetime(media_df['Date'])\n",
        "media_df.info()"
      ],
      "execution_count": 0,
      "outputs": []
    },
    {
      "metadata": {
        "id": "uUN_DRpgBXPb",
        "colab_type": "code",
        "colab": {}
      },
      "cell_type": "code",
      "source": [
        "media_df['Date'].describe()"
      ],
      "execution_count": 0,
      "outputs": []
    },
    {
      "metadata": {
        "id": "P67AG_ti_3As",
        "colab_type": "text"
      },
      "cell_type": "markdown",
      "source": [
        "# EDA"
      ]
    },
    {
      "metadata": {
        "id": "qPUPKupwCcF0",
        "colab_type": "code",
        "colab": {}
      },
      "cell_type": "code",
      "source": [
        "df = media_df.groupby('Date')['Views_show'].sum()\n",
        "df.head()"
      ],
      "execution_count": 0,
      "outputs": []
    },
    {
      "metadata": {
        "id": "SfF4GH0r_yK2",
        "colab_type": "code",
        "colab": {}
      },
      "cell_type": "code",
      "source": [
        "# Plot \"Views_Show\" on timeseries plot\n",
        "sns.tsplot(data=df)\n",
        "plt.xlabel('Date')\n",
        "plt.ylabel('Views_Show')\n",
        "plt.show()"
      ],
      "execution_count": 0,
      "outputs": []
    },
    {
      "metadata": {
        "id": "uFgIxcxJGtwr",
        "colab_type": "code",
        "colab": {}
      },
      "cell_type": "code",
      "source": [
        "df = media_df.groupby('Date').agg({'Views_show':'sum','Ad_impression':'sum'}).reset_index()\n",
        "print(df.head())\n",
        "print(type(df))\n",
        "print(df.columns)"
      ],
      "execution_count": 0,
      "outputs": []
    },
    {
      "metadata": {
        "id": "QLiUp7PBG0cV",
        "colab_type": "code",
        "colab": {}
      },
      "cell_type": "code",
      "source": [
        "ax = df.plot(x='Date',y='Views_show',legend=False)\n",
        "ax2=ax.twinx()\n",
        "df.plot(x='Date',y='Ad_impression',ax=ax2,legend=False,color='r')\n",
        "ax.figure.legend()\n",
        "plt.show()"
      ],
      "execution_count": 0,
      "outputs": []
    },
    {
      "metadata": {
        "id": "pJO3JUewYvox",
        "colab_type": "code",
        "colab": {}
      },
      "cell_type": "code",
      "source": [
        "sns.pairplot(media_df)"
      ],
      "execution_count": 0,
      "outputs": []
    },
    {
      "metadata": {
        "id": "j3lCyRhtd66H",
        "colab_type": "code",
        "colab": {}
      },
      "cell_type": "code",
      "source": [
        "# Derive Weekday,Weekend from Date\n",
        "media_df['Weekday'] = media_df['Date'].map(lambda x:x.weekday()) # weekday => Mon == 0 and Sun=6\n",
        "def is_weekend(dayNum):\n",
        "  if (dayNum == 5) | (dayNum == 6):\n",
        "    return 1\n",
        "  return 0\n",
        "media_df['Weekend'] = media_df['Weekday'].map(lambda x: is_weekend(x))\n",
        "media_df.describe()"
      ],
      "execution_count": 0,
      "outputs": []
    },
    {
      "metadata": {
        "id": "HhfDyJwdZ9P4",
        "colab_type": "code",
        "colab": {}
      },
      "cell_type": "code",
      "source": [
        "# Derive Days from Date\n",
        "from datetime import date\n",
        "\n",
        "\n",
        "d0 = date(2017,2,28)\n",
        "media_df['Days'] = media_df['Date'] - d0\n",
        "media_df.head()"
      ],
      "execution_count": 0,
      "outputs": []
    },
    {
      "metadata": {
        "id": "PXZMQW_zao5g",
        "colab_type": "code",
        "colab": {}
      },
      "cell_type": "code",
      "source": [
        "media_df.info()"
      ],
      "execution_count": 0,
      "outputs": []
    },
    {
      "metadata": {
        "id": "8KsyGlCeax6Q",
        "colab_type": "code",
        "colab": {}
      },
      "cell_type": "code",
      "source": [
        "# convert days column into string and extract number from column\n",
        "media_df['Days'] = media_df['Days'].astype(str)\n",
        "media_df['Days'] = media_df['Days'].map(lambda x: x.split(' days')[0])\n",
        "media_df['Days'] = media_df['Days'].astype(int)\n",
        "media_df.describe()"
      ],
      "execution_count": 0,
      "outputs": []
    },
    {
      "metadata": {
        "id": "UPDC4T9rcxJf",
        "colab_type": "code",
        "colab": {}
      },
      "cell_type": "code",
      "source": [
        "media_df.describe()"
      ],
      "execution_count": 0,
      "outputs": []
    },
    {
      "metadata": {
        "id": "-aksIMW821L9",
        "colab_type": "code",
        "colab": {}
      },
      "cell_type": "code",
      "source": [
        "million = 1000000\n",
        "billion = million*1000\n",
        "media_df['Visitors_million'] = media_df['Visitors']/million\n",
        "media_df['Views_platform_million'] = media_df['Views_platform']/million\n",
        "media_df['Ad_impression_billion'] = media_df['Ad_impression']/billion\n",
        "media_df.describe()"
      ],
      "execution_count": 0,
      "outputs": []
    },
    {
      "metadata": {
        "id": "ntk5KgSI_09T",
        "colab_type": "text"
      },
      "cell_type": "markdown",
      "source": [
        "# Perform Linear Regression"
      ]
    },
    {
      "metadata": {
        "id": "l-jwch6ZCMpj",
        "colab_type": "code",
        "colab": {}
      },
      "cell_type": "code",
      "source": [
        "from sklearn.model_selection import train_test_split\n",
        "from sklearn.linear_model import LinearRegression\n",
        "from sklearn.metrics import r2_score\n",
        "import statsmodels.api as sm"
      ],
      "execution_count": 0,
      "outputs": []
    },
    {
      "metadata": {
        "id": "rPfoNQ1oCdBU",
        "colab_type": "code",
        "colab": {}
      },
      "cell_type": "code",
      "source": [
        "def build_evaluate_model(X_param, y_param, random_state_param):\n",
        "  X_train, X_test, y_train, y_test = train_test_split(X_param, y_param, train_size=0.7, random_state=random_state_param)\n",
        "  \n",
        "  # Model object\n",
        "  lr = LinearRegression()\n",
        "  \n",
        "  # Fit model\n",
        "  lr.fit(X_train, y_train)\n",
        "  print('Model intercept:', lr.intercept_)\n",
        "  print('Model coefs: ', lr.coef_)\n",
        "  \n",
        "  # Predict using model\n",
        "  y_pred = lr.predict(X_test)\n",
        "  \n",
        "  # Evaluation\n",
        "  r_squared = r2_score(y_test, y_pred)\n",
        "  print('R_Squared: ', r_squared)\n",
        "  \n",
        "  # Plot Actual vs Predict\n",
        "  c = [i for i in range(0,len(y_test),1)]\n",
        "  plt.plot(c, y_test, color='r')\n",
        "  plt.plot(c, y_pred, color='g')\n",
        "  plt.title('Actual vs prediction')\n",
        "  plt.ylabel('Target var')\n",
        "  plt.show()\n",
        "  \n",
        "  # Plot error term\n",
        "  plt.plot(c, y_test-y_pred, color='r')\n",
        "  plt.title('Plotting error term')\n",
        "  plt.ylabel(\"Error term\")\n",
        "  plt.show()\n",
        "  \n",
        "  # Plot heatmap between variables\n",
        "  sns.heatmap((pd.concat([X_param,y_param],axis=1)).corr(), annot=True)\n",
        "  plt.show()\n",
        "  \n",
        "  # Check p-value\n",
        "  X_train_sm = X_train\n",
        "  X_train_sm = sm.add_constant(X_train_sm)\n",
        "  lr_1 = sm.OLS(y_train, X_train_sm).fit()\n",
        "  print(lr_1.summary())\n",
        "  "
      ],
      "execution_count": 0,
      "outputs": []
    },
    {
      "metadata": {
        "id": "f7La4xlOF5mD",
        "colab_type": "code",
        "colab": {}
      },
      "cell_type": "code",
      "source": [
        "X = media_df[['Visitors_million', 'Views_platform_million','Ad_impression_billion','Cricket_match_india','Character_A','Weekday', 'Weekend','Days']]\n",
        "y = media_df[['Views_show']]\n",
        "\n",
        "build_evaluate_model(X,y,random_state_param=10)"
      ],
      "execution_count": 0,
      "outputs": []
    },
    {
      "metadata": {
        "id": "7y-q_SheGsv7",
        "colab_type": "code",
        "colab": {}
      },
      "cell_type": "code",
      "source": [
        "X = media_df[['Views_platform_million','Ad_impression_billion','Cricket_match_india','Character_A','Weekday', 'Weekend','Days']]\n",
        "y = media_df[['Views_show']]\n",
        "\n",
        "build_evaluate_model(X,y,random_state_param=10)"
      ],
      "execution_count": 0,
      "outputs": []
    },
    {
      "metadata": {
        "id": "t3T5XuBPKE7z",
        "colab_type": "code",
        "colab": {}
      },
      "cell_type": "code",
      "source": [
        "X = media_df[['Views_platform_million','Ad_impression_billion','Cricket_match_india','Character_A', 'Weekend','Days']]\n",
        "y = media_df[['Views_show']]\n",
        "\n",
        "build_evaluate_model(X,y,random_state_param=10)"
      ],
      "execution_count": 0,
      "outputs": []
    },
    {
      "metadata": {
        "id": "hTLrqwqYKdDq",
        "colab_type": "code",
        "colab": {}
      },
      "cell_type": "code",
      "source": [
        "X = media_df[['Views_platform_million','Cricket_match_india','Character_A','Weekend','Days']]\n",
        "y = media_df[['Views_show']]\n",
        "\n",
        "build_evaluate_model(X,y,random_state_param=10)"
      ],
      "execution_count": 0,
      "outputs": []
    },
    {
      "metadata": {
        "id": "21kMI8r8KtOb",
        "colab_type": "code",
        "colab": {}
      },
      "cell_type": "code",
      "source": [
        "X = media_df[['Views_platform_million','Ad_impression_billion','Character_A','Weekend','Days']]\n",
        "y = media_df[['Views_show']]\n",
        "\n",
        "build_evaluate_model(X,y,random_state_param=10)"
      ],
      "execution_count": 0,
      "outputs": []
    },
    {
      "metadata": {
        "id": "-lKN_SRlLCVa",
        "colab_type": "code",
        "colab": {}
      },
      "cell_type": "code",
      "source": [
        "X = media_df[['Views_platform_million','Ad_impression_billion','Character_A','Days']]\n",
        "y = media_df[['Views_show']]\n",
        "\n",
        "build_evaluate_model(X,y,random_state_param=10)"
      ],
      "execution_count": 0,
      "outputs": []
    },
    {
      "metadata": {
        "id": "kxcofQwkHWYS",
        "colab_type": "code",
        "colab": {}
      },
      "cell_type": "code",
      "source": [
        "help(date)"
      ],
      "execution_count": 0,
      "outputs": []
    },
    {
      "metadata": {
        "id": "Hhy4tJZvIbsp",
        "colab_type": "code",
        "colab": {}
      },
      "cell_type": "code",
      "source": [
        "media_df['Weeknumber'] = media_df['Date'].dt.week\n",
        "media_df.head(10)"
      ],
      "execution_count": 0,
      "outputs": []
    },
    {
      "metadata": {
        "id": "DeSNUBptG4J5",
        "colab_type": "code",
        "colab": {}
      },
      "cell_type": "code",
      "source": [
        "media_df.groupby('Weeknumber')['Ad_impression_billion','Views_platform_million'].sum()\n",
        "# We can see here that Best 'Ad_impression_billion' was in Week 14 and then it has decreased to almost half in Week 20. \n",
        "# So if we increase our 'Ad_impression_billion' again, we'll see rise in \"Views_show\" (dependent variable)"
      ],
      "execution_count": 0,
      "outputs": []
    }
  ]
}